{
 "cells": [
  {
   "cell_type": "code",
   "execution_count": 2,
   "id": "f510c8d0",
   "metadata": {},
   "outputs": [],
   "source": [
    "class Node:\n",
    "    def __init__(self, data):\n",
    "        self.data = data\n",
    "        self.prev = None\n",
    "        self.next = None\n",
    "\n",
    "class DoublyLinkedList:\n",
    "    def __init__(self):\n",
    "        self.head = None\n",
    "        self.tail = None\n",
    "        self.size = 0"
   ]
  },
  {
   "cell_type": "raw",
   "id": "eb3d4c9c",
   "metadata": {},
   "source": [
    "1. Вставка в конец списка"
   ]
  },
  {
   "cell_type": "code",
   "execution_count": 3,
   "id": "e995fab5",
   "metadata": {},
   "outputs": [],
   "source": [
    "def add_to_end(self, data):\n",
    "    new_node = Node(data)\n",
    "    if self.tail is None:\n",
    "        self.head = self.tail = new_node\n",
    "    else:\n",
    "        new_node.prev = self.tail\n",
    "        self.tail.next = new_node\n",
    "        self.tail = new_node\n",
    "    self.size += 1"
   ]
  },
  {
   "cell_type": "raw",
   "id": "76d2d5a3",
   "metadata": {},
   "source": [
    "2. Вставка в конец списка"
   ]
  },
  {
   "cell_type": "code",
   "execution_count": 4,
   "id": "e7370251",
   "metadata": {},
   "outputs": [],
   "source": [
    "def add_to_beginning(self, data):\n",
    "    new_node = Node(data)\n",
    "    if self.head is None:\n",
    "        self.head = self.tail = new_node\n",
    "    else:\n",
    "        new_node.next = self.head\n",
    "        self.head.prev = new_node\n",
    "        self.head = new_node\n",
    "    self.size += 1"
   ]
  },
  {
   "cell_type": "raw",
   "id": "e138073b",
   "metadata": {},
   "source": [
    "3. Удаление последнего элемента"
   ]
  },
  {
   "cell_type": "code",
   "execution_count": 5,
   "id": "8cd10afc",
   "metadata": {},
   "outputs": [],
   "source": [
    "def delete_last(self):\n",
    "    if self.tail is None:\n",
    "        return None\n",
    "    data = self.tail.data\n",
    "    if self.head == self.tail:\n",
    "        self.head = self.tail = None\n",
    "    else:\n",
    "        self.tail = self.tail.prev\n",
    "        self.tail.next = None\n",
    "    self.size -= 1\n",
    "    return data"
   ]
  },
  {
   "cell_type": "raw",
   "id": "16d98fb5",
   "metadata": {},
   "source": [
    "4. Удаление первого элемента"
   ]
  },
  {
   "cell_type": "code",
   "execution_count": 6,
   "id": "52221433",
   "metadata": {},
   "outputs": [],
   "source": [
    "def delete_first(self):\n",
    "    if self.head is None:\n",
    "        return None\n",
    "    data = self.head.data\n",
    "    if self.head == self.tail:\n",
    "        self.head = self.tail = None\n",
    "    else:\n",
    "        self.head = self.head.next\n",
    "        self.head.prev = None\n",
    "    self.size -= 1\n",
    "    return data"
   ]
  },
  {
   "cell_type": "raw",
   "id": "9902ba0a",
   "metadata": {},
   "source": [
    "5. Вставка элемента по индексу"
   ]
  },
  {
   "cell_type": "code",
   "execution_count": 7,
   "id": "c8c52383",
   "metadata": {},
   "outputs": [],
   "source": [
    "def add_by_index(self, index, data):\n",
    "    if index < 0 or index > self.size:\n",
    "        raise Exception(\"Index out of range\")\n",
    "    if index == 0:\n",
    "        add_to_beginning(self, data)\n",
    "        return\n",
    "    if index == self.size:\n",
    "        add_to_end(self, data)\n",
    "        return\n",
    "    new_node = Node(data)\n",
    "    curr_node = self.head\n",
    "    for i in range(index - 1):\n",
    "        curr_node = curr_node.next\n",
    "    new_node.prev = curr_node\n",
    "    new_node.next = curr_node.next\n",
    "    curr_node.next.prev = new_node\n",
    "    curr_node.next = new_node\n",
    "    self.size += 1"
   ]
  },
  {
   "cell_type": "raw",
   "id": "227cb454",
   "metadata": {},
   "source": [
    "6. Получение элемента по индексу"
   ]
  },
  {
   "cell_type": "code",
   "execution_count": 8,
   "id": "0071b47a",
   "metadata": {},
   "outputs": [],
   "source": [
    "def get_by_index(self, index):\n",
    "    if index < 0 or index >= self.size:\n",
    "        raise Exception(\"Index out of range\")\n",
    "    curr_node = self.head\n",
    "    for i in range(index):\n",
    "        curr_node = curr_node.next\n",
    "    return curr_node.data"
   ]
  },
  {
   "cell_type": "raw",
   "id": "a7588f20",
   "metadata": {},
   "source": [
    "7. Удаление элемента по индексу"
   ]
  },
  {
   "cell_type": "code",
   "execution_count": 9,
   "id": "bd052c9b",
   "metadata": {},
   "outputs": [],
   "source": [
    "def delete_by_index(self, index):\n",
    "    if index < 0 or index >= self.size:\n",
    "        raise Exception(\"Index out of range\")\n",
    "    if index == 0:\n",
    "        return delete_first(self)\n",
    "    if index == self.size - 1:\n",
    "        return delete_last(self)\n",
    "    curr_node = self.head\n",
    "    for i in range(index):\n",
    "        curr_node = curr_node.next\n",
    "    data = curr_node.data\n",
    "    curr_node.prev.next = curr_node.next\n",
    "    curr_node.next.prev = curr_node.prev\n",
    "    self.size -= 1\n",
    "    return data"
   ]
  },
  {
   "cell_type": "raw",
   "id": "93fbb0b5",
   "metadata": {},
   "source": [
    "8. Получение размера списка"
   ]
  },
  {
   "cell_type": "code",
   "execution_count": 10,
   "id": "30e31e82",
   "metadata": {},
   "outputs": [],
   "source": [
    "def get_size(self):\n",
    "    return self.size"
   ]
  },
  {
   "cell_type": "raw",
   "id": "30577d9d",
   "metadata": {},
   "source": [
    "9. Удаление всех элементов списка"
   ]
  },
  {
   "cell_type": "code",
   "execution_count": 11,
   "id": "62fef659",
   "metadata": {},
   "outputs": [],
   "source": [
    "def clear(self):\n",
    "    self.head = None\n",
    "    self.tail = None\n",
    "    self.size = 0"
   ]
  },
  {
   "cell_type": "raw",
   "id": "bdba7f1f",
   "metadata": {},
   "source": [
    "10. Замена элемента по индексу на передаваемый элемент"
   ]
  },
  {
   "cell_type": "code",
   "execution_count": 12,
   "id": "92c60117",
   "metadata": {},
   "outputs": [],
   "source": [
    "def replace_at_index(self, index, data):\n",
    "    if index < 0 or index >= self.size:\n",
    "        raise IndexError(\"Index out of range\")\n",
    "    current = self.head\n",
    "    for _ in range(index):\n",
    "        current = current.next\n",
    "    current.data = data"
   ]
  },
  {
   "cell_type": "raw",
   "id": "c0c6c6b3",
   "metadata": {},
   "source": [
    "11. Проверка на пустоту списка"
   ]
  },
  {
   "cell_type": "code",
   "execution_count": 13,
   "id": "ceeb5371",
   "metadata": {},
   "outputs": [],
   "source": [
    "def is_empty(self):\n",
    "    return self.size == 0"
   ]
  },
  {
   "cell_type": "raw",
   "id": "574b60cb",
   "metadata": {},
   "source": [
    "12. Меняет порядок элементов в списке на обратный"
   ]
  },
  {
   "cell_type": "code",
   "execution_count": 14,
   "id": "7c03d5e2",
   "metadata": {},
   "outputs": [],
   "source": [
    "def reverse(self):\n",
    "    current = self.head\n",
    "    while current is not None:\n",
    "        temp = current.next\n",
    "        current.next = current.prev\n",
    "        current.prev = temp\n",
    "        current = temp\n",
    "    self.head, self.tail = self.tail, self.head"
   ]
  },
  {
   "cell_type": "raw",
   "id": "26f366be",
   "metadata": {},
   "source": [
    "13. Вставка другого списка в список, начиная с индекса"
   ]
  },
  {
   "cell_type": "code",
   "execution_count": 15,
   "id": "9a892c6a",
   "metadata": {},
   "outputs": [],
   "source": [
    "def insert_list_at_index(self, index, other_list):\n",
    "    if index < 0 or index > self.size:\n",
    "        raise IndexError(\"Index out of range\")\n",
    "    if is_empty(other_list):\n",
    "        return\n",
    "    if index == 0:\n",
    "        other_list.tail.next = self.head\n",
    "        if self.head is not None:\n",
    "            self.head.prev = other_list.tail\n",
    "        else:\n",
    "            self.tail = other_list.tail\n",
    "        self.head = other_list.head\n",
    "    elif index == self.size:\n",
    "        self.tail.next = other_list.head\n",
    "        other_list.head.prev = self.tail\n",
    "        self.tail = other_list.tail\n",
    "    else:\n",
    "        current = self.head\n",
    "        for _ in range(index):\n",
    "            current = current.next\n",
    "        other_list.head.prev = current.prev\n",
    "        other_list.tail.next = current\n",
    "        current.prev.next = other_list.head\n",
    "        current.prev = other_list.tail\n",
    "    self.size += other_list.size"
   ]
  },
  {
   "cell_type": "raw",
   "id": "5a7425be",
   "metadata": {},
   "source": [
    "14. Вставка другого списка в конец"
   ]
  },
  {
   "cell_type": "code",
   "execution_count": 16,
   "id": "0ff7158e",
   "metadata": {},
   "outputs": [],
   "source": [
    "def insert_list_at_end(self, other_list):\n",
    "    insert_list_at_index(self, self.size, other_list)"
   ]
  },
  {
   "cell_type": "raw",
   "id": "017c9480",
   "metadata": {},
   "source": [
    "15. Вставка другого списка в начало"
   ]
  },
  {
   "cell_type": "code",
   "execution_count": 17,
   "id": "ff3b61b0",
   "metadata": {},
   "outputs": [],
   "source": [
    "def insert_list_at_start(self, other_list):\n",
    "    insert_list_at_index(self, 0, other_list)"
   ]
  },
  {
   "cell_type": "raw",
   "id": "628365e9",
   "metadata": {},
   "source": [
    "16. Проверка на содержание другого списка в списке"
   ]
  },
  {
   "cell_type": "code",
   "execution_count": 18,
   "id": "4c46140c",
   "metadata": {},
   "outputs": [],
   "source": [
    "def _is_sublist(self, start_node, other_list):\n",
    "    current = start_node\n",
    "    other_current = other_list.head\n",
    "    while current is not None and other_current is not None:\n",
    "        if current.data != other_current.data:\n",
    "            return False\n",
    "        current = current.next\n",
    "        other_current = other_current.next\n",
    "    return other_current is None\n",
    "\n",
    "def ensure_list_contains(self, other_list):\n",
    "        if is_empty(other_list):\n",
    "            return False\n",
    "        current = self.head\n",
    "        while current is not None:\n",
    "            if _is_sublist(self, current, other_list):\n",
    "                return True\n",
    "            current = current.next\n",
    "        return False"
   ]
  },
  {
   "cell_type": "raw",
   "id": "b54eedb2",
   "metadata": {},
   "source": [
    "17.\tПоиск первого вхождения другого списка в список"
   ]
  },
  {
   "cell_type": "code",
   "execution_count": 19,
   "id": "2125e8b4",
   "metadata": {},
   "outputs": [],
   "source": [
    "def find_first_occurrence(self, other_list):\n",
    "    if is_empty(other_list):\n",
    "        return -1\n",
    "    index = 0\n",
    "    current = self.head\n",
    "    while current is not None:\n",
    "        if _is_sublist(self, current, other_list):\n",
    "            return index\n",
    "        current = current.next\n",
    "        index += 1\n",
    "    return -1"
   ]
  },
  {
   "cell_type": "raw",
   "id": "25954bcb",
   "metadata": {},
   "source": [
    "18.\tПоиск последнего вхождения другого списка в список"
   ]
  },
  {
   "cell_type": "code",
   "execution_count": 20,
   "id": "9ef7ee5e",
   "metadata": {},
   "outputs": [],
   "source": [
    "def find_last_occurrence(self, other_list):\n",
    "    if is_empty(other_list):\n",
    "        return -1\n",
    "    index = self.size - 1\n",
    "    current = self.tail\n",
    "    while current is not None:\n",
    "        if _is_sublist(self, current, other_list):\n",
    "            return index - other_list.size + 1\n",
    "        current = current.prev\n",
    "        index -= 1\n",
    "    return -1"
   ]
  },
  {
   "cell_type": "raw",
   "id": "8440fedb",
   "metadata": {},
   "source": [
    "19.\tОбмен двух элементов списка по индексам"
   ]
  },
  {
   "cell_type": "code",
   "execution_count": 106,
   "id": "b694c3e7",
   "metadata": {},
   "outputs": [],
   "source": [
    "def _swap_nodes(self, node1, node2):\n",
    "    if node1.next == node2:\n",
    "        if node1.prev != None: node1.prev.next = node2\n",
    "        if node2.next != None: node2.next.prev = node1\n",
    "        node1.next = node2.next\n",
    "        node2.prev = node1.prev\n",
    "        node2.next = node1\n",
    "        node1.prev = node2\n",
    "    else:\n",
    "        node1.prev.next = node2\n",
    "        node2.next.prev = node1\n",
    "        node1.next.prev = node2\n",
    "        node2.prev.next = node1\n",
    "        node1.next, node2.next = node2.next, node1.next\n",
    "        node1.prev, node2.prev = node2.prev, node1.prev\n",
    "        \n",
    "def get_node_by_index(self, index):\n",
    "    curr_node = self.head\n",
    "    for i in range(index):\n",
    "        curr_node = curr_node.next\n",
    "    return curr_node\n",
    "\n",
    "def swap_elements_at_index(self, index1, index2):\n",
    "    if index1 < 0 or index1 >= self.size or index2 < 0 or index2 >= self.size:\n",
    "        raise IndexError(\"Index out of range\")\n",
    "    if index1 == index2:\n",
    "        return\n",
    "    if index1 > index2:\n",
    "        index1, index2 = index2, index1\n",
    "    node1 = get_node_by_index(self, index1)\n",
    "    node2 = get_node_by_index(self, index2)\n",
    "    _swap_nodes(self, node1, node2)"
   ]
  },
  {
   "cell_type": "code",
   "execution_count": 77,
   "id": "d8136c5f",
   "metadata": {},
   "outputs": [
    {
     "name": "stdout",
     "output_type": "stream",
     "text": [
      "Введите значение первого элемента списка\n",
      "1\n",
      "Введите запрос:\n",
      "1. Добавление элемента\n",
      "2. Удаление элемента\n",
      "3. Получение элемента по индексу\n",
      "4. Получение размера списка\n",
      "5. Удаление списка\n",
      "6. Замена элементов\n",
      "7. Проверка на пустоту\n",
      "8. Вставка другого списка\n",
      "9. Проверка на содержание другого списка\n",
      "10. Поиск вхождения другого списка\n",
      "11. Обмен двух элементов списка по индексам\n",
      "1\n",
      "1. Добавление в конец\n",
      "2. Добавление в начало\n",
      "3. Добавление по индексу\n",
      "1\n",
      "Введите значение для вставки:\n",
      "2\n",
      "Список:\n",
      "[ 1 2 ]\n",
      "Желаете повторить? y/n\n",
      "y\n",
      "Введите значение для вставки:\n",
      "3\n",
      "Список:\n",
      "[ 1 2 3 ]\n",
      "Желаете повторить? y/n\n",
      "y\n",
      "Введите значение для вставки:\n",
      "4\n",
      "Список:\n",
      "[ 1 2 3 4 ]\n",
      "Желаете повторить? y/n\n",
      "n\n",
      "Желаете повторить? y/n\n",
      "y\n",
      "Введите запрос:\n",
      "1. Добавление элемента\n",
      "2. Удаление элемента\n",
      "3. Получение элемента по индексу\n",
      "4. Получение размера списка\n",
      "5. Удаление списка\n",
      "6. Замена элементов\n",
      "7. Проверка на пустоту\n",
      "8. Вставка другого списка\n",
      "9. Проверка на содержание другого списка\n",
      "10. Поиск вхождения другого списка\n",
      "11. Обмен двух элементов списка по индексам\n",
      "11\n",
      "Введите первый индекс:\n",
      "2\n",
      "Введите второй индекс:\n",
      "3\n",
      "Список:\n",
      "[ 1 2 4 3 ]\n",
      "Желаете повторить? y/n\n",
      "n\n",
      "Желаете повторить? y/n\n",
      "n\n"
     ]
    }
   ],
   "source": [
    "def print_list(self):\n",
    "    curr_node = self.head\n",
    "    print('Список:')\n",
    "    print('[ ', end='')\n",
    "    while curr_node != None:\n",
    "        print(curr_node.data, ' ', sep='', end='')\n",
    "        curr_node = curr_node.next\n",
    "    print(']')\n",
    "\n",
    "print('Введите значение первого элемента списка')\n",
    "data = input()\n",
    "linked_list = DoublyLinkedList()\n",
    "add_to_end(linked_list, data)\n",
    "while True:\n",
    "    print('Введите запрос:')\n",
    "    print('1. Добавление элемента', '2. Удаление элемента', '3. Получение элемента по индексу', '4. Получение размера списка',\n",
    "         '5. Удаление списка', '6. Замена элементов', '7. Проверка на пустоту', '8. Вставка другого списка', '9. Проверка на содержание другого списка',\n",
    "         '10. Поиск вхождения другого списка', '11. Обмен двух элементов списка по индексам', sep='\\n')\n",
    "    button1 = input()\n",
    "    if button1 == '1':\n",
    "        print('1. Добавление в конец', '2. Добавление в начало', '3. Добавление по индексу', sep='\\n')\n",
    "        button2 = input()\n",
    "        if button2 == '1':\n",
    "            while True:\n",
    "                print('Введите значение для вставки:')\n",
    "                n = input()\n",
    "                add_to_end(linked_list, n)\n",
    "                print_list(linked_list)\n",
    "                print('Желаете повторить? y/n')\n",
    "                break_condition = input()\n",
    "                if break_condition == 'n': break\n",
    "        elif button2 == '2':\n",
    "            while True:\n",
    "                print('Введите значение для вставки:')\n",
    "                n = input()\n",
    "                add_to_beginning(linked_list, n)\n",
    "                print_list(linked_list)\n",
    "                print('Желаете повторить? y/n')\n",
    "                break_condition = input()\n",
    "                if break_condition == 'n': break\n",
    "        elif button2 == '3':\n",
    "            while True:\n",
    "                print('Введите значение для вставки:')\n",
    "                n = input()\n",
    "                print('Введите индекс для вставки:')\n",
    "                ind = int(input())\n",
    "                add_by_index(linked_list, ind, n)\n",
    "                print_list(linked_list)\n",
    "                print('Желаете повторить? y/n')\n",
    "                break_condition = input()\n",
    "                if break_condition == 'n': break\n",
    "        else: print('Неверное значение')\n",
    "    elif button1 == '2':\n",
    "        print('1. Удаление последнего элемента', '2. Удаление первого элемента', '3. Удаление по индексу', sep='\\n')\n",
    "        button2 = input()\n",
    "        if button2 == '1':\n",
    "            while True:\n",
    "                delete_last(linked_list)\n",
    "                print_list(linked_list)\n",
    "                print('Желаете повторить? y/n')\n",
    "                break_condition = input()\n",
    "                if break_condition == 'n': break\n",
    "        elif button2 == '2':\n",
    "            while True:\n",
    "                delete_first(linked_list)\n",
    "                print_list(linked_list)\n",
    "                print('Желаете повторить? y/n')\n",
    "                break_condition = input()\n",
    "                if break_condition == 'n': break\n",
    "        elif button2 == '3':\n",
    "            while True:\n",
    "                print('Введите индекс для удаления:')\n",
    "                ind = int(input())\n",
    "                delete_by_index(linked_list, ind)\n",
    "                print_list(linked_list)\n",
    "                print('Желаете повторить? y/n')\n",
    "                break_condition = input()\n",
    "                if break_condition == 'n': break\n",
    "        else: print('Неверное значение')\n",
    "    elif button1 == '3':\n",
    "        while True:\n",
    "            print('Введите индекс элемента:')\n",
    "            ind = int(input())\n",
    "            print(get_by_index(linked_list, ind))\n",
    "            print('Желаете повторить? y/n')\n",
    "            break_condition = input()\n",
    "            if break_condition == 'n': break\n",
    "    elif button1 == '4':\n",
    "        print('Размер списка:', get_size(linked_list))\n",
    "    elif button1 == '5':\n",
    "        clear(linked_list)\n",
    "        print('Список удалён')\n",
    "    elif button1 == '6':\n",
    "        print('1. Замена элемента по индексу на передаваемый элемент', '2. Замена порядка элементов в списке на обратный', sep='\\n')\n",
    "        button2 = input()\n",
    "        if button2 == '1':\n",
    "            while True:\n",
    "                print('Введите значение для замены:')\n",
    "                n = input()\n",
    "                print('Введите индекс для замены:')\n",
    "                ind = int(input())\n",
    "                replace_at_index(linked_list, ind, n)\n",
    "                print_list(linked_list)\n",
    "                print('Желаете повторить? y/n')\n",
    "                break_condition = input()\n",
    "                if break_condition == 'n': break\n",
    "        elif button2 == '2':\n",
    "            while True:\n",
    "                reverse(linked_list)\n",
    "                print_list(linked_list)\n",
    "                print('Желаете повторить? y/n')\n",
    "                break_condition = input()\n",
    "                if break_condition == 'n': break\n",
    "        else: print('Неверное значение')\n",
    "    elif button1 == '7':\n",
    "        print(is_empty(linked_list))\n",
    "    elif button1 == '8':\n",
    "        print('1. Вставка начиная с индекса', '2. Вставка в конец', '3. Вставка в начало', sep='\\n')\n",
    "        button2 = input()\n",
    "        if button2 == '1':\n",
    "            while True:\n",
    "                print('Введите значения второго списка через пробел:')\n",
    "                other_list = input().split()\n",
    "                other_linked_list = DoublyLinkedList()\n",
    "                for s in other_list:\n",
    "                    add_to_end(other_linked_list, s)\n",
    "                print('Введите индекс для вставки:')\n",
    "                ind = int(input())\n",
    "                insert_list_at_index(linked_list, ind, other_linked_list)\n",
    "                print_list(linked_list)\n",
    "                print('Желаете повторить? y/n')\n",
    "                break_condition = input()\n",
    "                if break_condition == 'n': break\n",
    "        elif button2 == '2':\n",
    "            while True:\n",
    "                print('Введите значения второго списка через пробел:')\n",
    "                other_list = input().split()\n",
    "                other_linked_list = DoublyLinkedList()\n",
    "                for s in other_list:\n",
    "                    add_to_end(other_linked_list, s)\n",
    "                insert_list_at_end(linked_list, other_linked_list)\n",
    "                print_list(linked_list)\n",
    "                print('Желаете повторить? y/n')\n",
    "                break_condition = input()\n",
    "                if break_condition == 'n': break\n",
    "        elif button2 == '3':\n",
    "            while True:\n",
    "                print('Введите значения второго списка через пробел:')\n",
    "                other_list = input().split()\n",
    "                other_linked_list = DoublyLinkedList()\n",
    "                for s in other_list:\n",
    "                    add_to_end(other_linked_list, s)\n",
    "                insert_list_at_start(linked_list, other_linked_list)\n",
    "                print_list(linked_list)\n",
    "                print('Желаете повторить? y/n')\n",
    "                break_condition = input()\n",
    "                if break_condition == 'n': break\n",
    "        else: print('Неверное значение')\n",
    "    elif button1 == '9':\n",
    "        while True:\n",
    "            print('Введите значения второго списка через пробел:')\n",
    "            other_list = input().split()\n",
    "            other_linked_list = DoublyLinkedList()\n",
    "            for s in other_list:\n",
    "                add_to_end(other_linked_list, s)\n",
    "            print(ensure_list_contains(linked_list, other_linked_list))\n",
    "            print('Желаете повторить? y/n')\n",
    "            break_condition = input()\n",
    "            if break_condition == 'n': break\n",
    "    elif button1 == '10':\n",
    "        print('1. Поиск первого вхождения', '2. Поиск последнего вхождения', sep='\\n')\n",
    "        button2 = input()\n",
    "        if button2 == '1':\n",
    "            while True:\n",
    "                print('Введите значения второго списка через пробел:')\n",
    "                other_list = input().split()\n",
    "                other_linked_list = DoublyLinkedList()\n",
    "                for s in other_list:\n",
    "                    add_to_end(other_linked_list, s)\n",
    "                print('Индекс первого вхождения:', find_first_occurrence(linked_list, other_linked_list))\n",
    "                print('Желаете повторить? y/n')\n",
    "                break_condition = input()\n",
    "                if break_condition == 'n': break\n",
    "        elif button2 == '2':\n",
    "            while True:\n",
    "                print('Введите значения второго списка через пробел:')\n",
    "                other_list = input().split()\n",
    "                other_linked_list = DoublyLinkedList()\n",
    "                for s in other_list:\n",
    "                    add_to_end(other_linked_list, s)\n",
    "                print('Индекс последнего вхождения:', find_last_occurrence(linked_list, other_linked_list))\n",
    "                print('Желаете повторить? y/n')\n",
    "                break_condition = input()\n",
    "                if break_condition == 'n': break\n",
    "        else: print('Неверное значение')\n",
    "    elif button1 == '11':\n",
    "        while True:\n",
    "            print('Введите первый индекс:')\n",
    "            ind1 = int(input())\n",
    "            print('Введите второй индекс:')\n",
    "            ind2 = int(input())\n",
    "            swap_elements_at_index(linked_list, ind1, ind2)\n",
    "            print_list(linked_list)\n",
    "            print('Желаете повторить? y/n')\n",
    "            break_condition = input()\n",
    "            if break_condition == 'n': break\n",
    "    else: print('Неверное значение')\n",
    "    print('Желаете повторить? y/n')\n",
    "    break_condition = input()\n",
    "    if break_condition == 'n': break"
   ]
  },
  {
   "cell_type": "code",
   "execution_count": 79,
   "id": "9ad047c1",
   "metadata": {},
   "outputs": [],
   "source": [
    "import time\n",
    "from decimal import Decimal\n",
    "\n",
    "graph_val = {}\n",
    "test_linked_list = DoublyLinkedList()\n",
    "add_to_end(test_linked_list, 1)\n",
    "for i in range(2, 100000):\n",
    "    add_to_end(test_linked_list, i)\n",
    "    index = test_linked_list.size-1\n",
    "    start = time.time()\n",
    "    get_by_index(test_linked_list, index)\n",
    "    end = time.time()\n",
    "    graph_val.update({i : Decimal(end)-Decimal(start)})"
   ]
  },
  {
   "cell_type": "code",
   "execution_count": 80,
   "id": "b84d5a08",
   "metadata": {},
   "outputs": [
    {
     "data": {
      "text/plain": [
       "[<matplotlib.lines.Line2D at 0x1e620a1cdd0>]"
      ]
     },
     "execution_count": 80,
     "metadata": {},
     "output_type": "execute_result"
    },
    {
     "data": {
      "image/png": "[encoded data removed]",
      "text/plain": [
       "<Figure size 640x480 with 1 Axes>"
      ]
     },
     "metadata": {},
     "output_type": "display_data"
    }
   ],
   "source": [
    "import matplotlib as plt\n",
    "\n",
    "plt.pyplot.plot(graph_val.keys(), graph_val.values(), 'b^')\n",
    "plt.pyplot.plot([list(graph_val.keys())[0], list(graph_val.keys())[-1]], [list(graph_val.values())[0], list(graph_val.values())[-1]], 'r')"
   ]
  },
  {
   "cell_type": "code",
   "execution_count": 83,
   "id": "36759ea6",
   "metadata": {},
   "outputs": [],
   "source": [
    "graph_val = {}\n",
    "test_linked_list = DoublyLinkedList()\n",
    "other_test_linked_list = DoublyLinkedList()\n",
    "add_to_end(test_linked_list, 1)\n",
    "add_to_end(other_test_linked_list, 2)\n",
    "for i in range(1000):\n",
    "    add_to_end(test_linked_list, 1)\n",
    "    add_to_beginning(other_test_linked_list, 1)\n",
    "    start = time.time()\n",
    "    ensure_list_contains(test_linked_list, other_test_linked_list)\n",
    "    end = time.time()\n",
    "    graph_val.update({i : Decimal(end)-Decimal(start)})"
   ]
  },
  {
   "cell_type": "code",
   "execution_count": 86,
   "id": "95671326",
   "metadata": {},
   "outputs": [
    {
     "data": {
      "text/plain": [
       "[<matplotlib.lines.Line2D at 0x1e61f4f0b50>]"
      ]
     },
     "execution_count": 86,
     "metadata": {},
     "output_type": "execute_result"
    },
    {
     "data": {
      "image/png": "[encoded data removed]",
      "text/plain": [
       "<Figure size 640x480 with 1 Axes>"
      ]
     },
     "metadata": {},
     "output_type": "display_data"
    }
   ],
   "source": [
    "plt.pyplot.plot(graph_val.keys(), graph_val.values(), 'b^')"
   ]
  },
  {
   "cell_type": "code",
   "execution_count": 94,
   "id": "8c79d5c0",
   "metadata": {},
   "outputs": [],
   "source": [
    "graph_val = {}\n",
    "test_linked_list = DoublyLinkedList()\n",
    "other_test_linked_list = DoublyLinkedList()\n",
    "add_to_end(test_linked_list, 1)\n",
    "for i in range(3):\n",
    "    add_to_end(other_test_linked_list, i)\n",
    "for i in range(30000):\n",
    "    index = test_linked_list.size-1\n",
    "    start = time.time()\n",
    "    insert_list_at_index(test_linked_list, index, other_test_linked_list)\n",
    "    end = time.time()\n",
    "    graph_val.update({i : Decimal(end)-Decimal(start)})"
   ]
  },
  {
   "cell_type": "code",
   "execution_count": 95,
   "id": "ca8490d2",
   "metadata": {},
   "outputs": [
    {
     "data": {
      "text/plain": [
       "[<matplotlib.lines.Line2D at 0x1e61cc07450>]"
      ]
     },
     "execution_count": 95,
     "metadata": {},
     "output_type": "execute_result"
    },
    {
     "data": {
      "image/png": "[encoded data removed]",
      "text/plain": [
       "<Figure size 640x480 with 1 Axes>"
      ]
     },
     "metadata": {},
     "output_type": "display_data"
    }
   ],
   "source": [
    "plt.pyplot.plot(graph_val.keys(), graph_val.values(), 'b^')\n",
    "plt.pyplot.plot([list(graph_val.keys())[0], list(graph_val.keys())[-1]], [list(graph_val.values())[0], list(graph_val.values())[-1]], 'r')"
   ]
  },
  {
   "cell_type": "code",
   "execution_count": 108,
   "id": "afe343cd",
   "metadata": {},
   "outputs": [],
   "source": [
    "graph_val = {}\n",
    "test_linked_list = DoublyLinkedList()\n",
    "for i in range(6):\n",
    "    add_to_end(test_linked_list, i)\n",
    "for i in range(7, 100000):\n",
    "    add_to_end(test_linked_list, i)\n",
    "    index1 = test_linked_list.size//2\n",
    "    index2 = test_linked_list.size//2+1\n",
    "    start = time.time()\n",
    "    swap_elements_at_index(test_linked_list, index1, index2)\n",
    "    end = time.time()\n",
    "    graph_val.update({i : Decimal(end)-Decimal(start)})"
   ]
  },
  {
   "cell_type": "code",
   "execution_count": 109,
   "id": "72fdb032",
   "metadata": {},
   "outputs": [
    {
     "data": {
      "text/plain": [
       "[<matplotlib.lines.Line2D at 0x1e620a70610>]"
      ]
     },
     "execution_count": 109,
     "metadata": {},
     "output_type": "execute_result"
    },
    {
     "data": {
      "image/png": "[encoded data removed]",
      "text/plain": [
       "<Figure size 640x480 with 1 Axes>"
      ]
     },
     "metadata": {},
     "output_type": "display_data"
    }
   ],
   "source": [
    "plt.pyplot.plot(graph_val.keys(), graph_val.values(), 'b^')\n",
    "plt.pyplot.plot([list(graph_val.keys())[0], list(graph_val.keys())[-1]], [list(graph_val.values())[0], list(graph_val.values())[-1]], 'r')"
   ]
  },
  {
   "cell_type": "code",
   "execution_count": null,
   "id": "40c4946b",
   "metadata": {},
   "outputs": [],
   "source": []
  }
 ],
 "metadata": {
  "kernelspec": {
   "display_name": "Python 3 (ipykernel)",
   "language": "python",
   "name": "python3"
  },
  "language_info": {
   "codemirror_mode": {
    "name": "ipython",
    "version": 3
   },
   "file_extension": ".py",
   "mimetype": "text/x-python",
   "name": "python",
   "nbconvert_exporter": "python",
   "pygments_lexer": "ipython3",
   "version": "3.11.3"
  }
 },
 "nbformat": 4,
 "nbformat_minor": 5
}
