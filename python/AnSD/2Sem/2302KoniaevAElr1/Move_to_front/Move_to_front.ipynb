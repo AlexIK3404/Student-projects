{
 "cells": [
  {
   "cell_type": "code",
   "execution_count": 1,
   "id": "bd76da5b",
   "metadata": {},
   "outputs": [
    {
     "name": "stdout",
     "output_type": "stream",
     "text": [
      "Original string: abracadabra\n",
      "Encoded: [97, 98, 114, 2, 100, 1, 101, 1, 4, 4, 2]\n",
      "Decoded: abracadabra\n"
     ]
    }
   ],
   "source": [
    "def move_to_front_encode(s):\n",
    "    alphabet = list(range(256))  # Создаем алфавит из всех возможных символов (ASCII)\n",
    "    encoded = []\n",
    "\n",
    "    for char in s:\n",
    "        index = alphabet.index(ord(char))  # Находим индекс символа в алфавите\n",
    "        encoded.append(index)  # Добавляем индекс в закодированную строку\n",
    "        # Перемещаем символ в начало алфавита\n",
    "        alphabet.insert(0, alphabet.pop(index))\n",
    "\n",
    "    return encoded\n",
    "\n",
    "def move_to_front_decode(encoded):\n",
    "    alphabet = list(range(256))  # Создаем алфавит из всех возможных символов (ASCII)\n",
    "    decoded = []\n",
    "\n",
    "    for index in encoded:\n",
    "        char = chr(alphabet[index])  # Находим символ по индексу в алфавите\n",
    "        decoded.append(char)  # Добавляем символ в декодированную строку\n",
    "        # Перемещаем символ в начало алфавита\n",
    "        alphabet.insert(0, alphabet.pop(index))\n",
    "\n",
    "    return ''.join(decoded)\n",
    "\n",
    "# Пример использования:\n",
    "input_str = \"abracadabra\"\n",
    "encoded = move_to_front_encode(input_str)\n",
    "decoded = move_to_front_decode(encoded)\n",
    "\n",
    "print(\"Original string:\", input_str)\n",
    "print(\"Encoded:\", encoded)\n",
    "print(\"Decoded:\", decoded)"
   ]
  },
  {
   "cell_type": "code",
   "execution_count": null,
   "id": "85455657",
   "metadata": {},
   "outputs": [],
   "source": []
  }
 ],
 "metadata": {
  "kernelspec": {
   "display_name": "Python 3 (ipykernel)",
   "language": "python",
   "name": "python3"
  },
  "language_info": {
   "codemirror_mode": {
    "name": "ipython",
    "version": 3
   },
   "file_extension": ".py",
   "mimetype": "text/x-python",
   "name": "python",
   "nbconvert_exporter": "python",
   "pygments_lexer": "ipython3",
   "version": "3.11.3"
  }
 },
 "nbformat": 4,
 "nbformat_minor": 5
}
