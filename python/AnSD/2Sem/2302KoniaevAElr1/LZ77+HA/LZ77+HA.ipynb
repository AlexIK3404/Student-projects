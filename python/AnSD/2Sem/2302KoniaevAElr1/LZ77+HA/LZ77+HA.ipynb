{
 "cells": [
  {
   "cell_type": "code",
   "execution_count": 2,
   "id": "e088dec2",
   "metadata": {},
   "outputs": [],
   "source": [
    "def LZ77_encode(text, window_size=5):\n",
    "    compressed = []\n",
    "    pointer = 0\n",
    "\n",
    "    while pointer < len(text):\n",
    "        max_match = ''\n",
    "        length = 0\n",
    "        i = 1\n",
    "        tmptext = text[pointer]\n",
    "        buffer = text[max(0, pointer - window_size):pointer]\n",
    "        if len(tmptext) < len(buffer):\n",
    "            while True:\n",
    "                if (buffer + text[pointer:pointer+max(0, len(tmptext) - len(buffer) + buffer.find(tmptext[0]))]).find(tmptext) != -1 and \\\n",
    "                pointer + i < len(text) + 1:\n",
    "                    length += 1\n",
    "                    max_match = tmptext\n",
    "                    tmptext = text[pointer:pointer+i+1]\n",
    "                else:\n",
    "                    break\n",
    "                i += 1\n",
    "\n",
    "        if length > 0:\n",
    "            next_char = text[pointer + length] if pointer + length < len(text) else ''\n",
    "            offset = len(buffer) - buffer.find(tmptext[0])\n",
    "            compressed.append((offset, length, next_char))\n",
    "            pointer += length + 1\n",
    "        else:\n",
    "            compressed.append((0, 0, text[pointer]))\n",
    "            pointer += 1\n",
    "    compressed[-1] = compressed[-1][0:2] + ('$',)\n",
    "\n",
    "    return compressed"
   ]
  },
  {
   "cell_type": "code",
   "execution_count": 3,
   "id": "e0d5321f",
   "metadata": {},
   "outputs": [],
   "source": [
    "def LZ77_decode(compressed):\n",
    "    text = ''\n",
    "    for item in compressed:\n",
    "        offset, length, char = item\n",
    "        if length == 0:\n",
    "            text += char\n",
    "        else:\n",
    "            start = len(text) - offset\n",
    "            for i in range(length):\n",
    "                text += text[start + i]\n",
    "            text += char\n",
    "    return text"
   ]
  },
  {
   "cell_type": "code",
   "execution_count": 4,
   "id": "d2f81406",
   "metadata": {},
   "outputs": [
    {
     "name": "stdout",
     "output_type": "stream",
     "text": [
      "Encoded string: [(0, 0, 'a'), (0, 0, 'b'), (0, 0, 'r'), (3, 1, 'c'), (5, 1, 'd'), (4, 1, 'b'), (0, 0, 'r'), (5, 1, '$')]\n",
      "Decoded string: abracadabra$\n",
      "Encoded string: [(0, 0, 'a'), (0, 0, 'b'), (2, 1, 'c'), (4, 7, 'd'), (4, 1, 'c'), (4, 1, '$')]\n",
      "Decoded string: abacabacabadaca$\n"
     ]
    }
   ],
   "source": [
    "# Пример использования:\n",
    "input_string = \"abracadabra\"\n",
    "encoded_string = LZ77_encode(input_string)\n",
    "print(\"Encoded string:\", encoded_string)\n",
    "decoded_string = LZ77_decode(encoded_string)\n",
    "print(\"Decoded string:\", decoded_string)\n",
    "\n",
    "input_string = \"abacabacabadaca\"\n",
    "encoded_string = LZ77_encode(input_string)\n",
    "print(\"Encoded string:\", encoded_string)\n",
    "decoded_string = LZ77_decode(encoded_string)\n",
    "print(\"Decoded string:\", decoded_string)"
   ]
  },
  {
   "cell_type": "code",
   "execution_count": 5,
   "id": "15b5cf16",
   "metadata": {},
   "outputs": [],
   "source": [
    "def LZ77_to_file(filename, encoded_data):\n",
    "    with open(filename, 'wb') as file:\n",
    "        for item in encoded_data:\n",
    "            file.write(item[0].to_bytes(2, byteorder='big'))\n",
    "            file.write(item[1].to_bytes(2, byteorder='big'))\n",
    "            file.write(ord(item[2]).to_bytes(2, byteorder='big'))\n",
    "    return"
   ]
  },
  {
   "cell_type": "code",
   "execution_count": 6,
   "id": "45de21ac",
   "metadata": {},
   "outputs": [],
   "source": [
    "def LZ77_from_file(filename):\n",
    "    with open(filename, 'rb') as file:\n",
    "        encoded_data = []\n",
    "        while True:\n",
    "            offset = file.read(2)\n",
    "            if not offset:\n",
    "                break\n",
    "            offset = int.from_bytes(offset, \"big\")\n",
    "            length = int.from_bytes(file.read(2), \"big\")\n",
    "            next_char = chr(int.from_bytes(file.read(2), \"big\"))\n",
    "            encoded_data.append((offset, length, next_char))\n",
    "    return encoded_data"
   ]
  },
  {
   "cell_type": "code",
   "execution_count": 13,
   "id": "9a69c7ee",
   "metadata": {},
   "outputs": [],
   "source": [
    "import heapq\n",
    "from collections import Counter, defaultdict\n",
    "\n",
    "class HuffmanNode:\n",
    "    def __init__(self, value, frequency):\n",
    "        self.value = value\n",
    "        self.frequency = frequency\n",
    "        self.left = None\n",
    "        self.right = None\n",
    "\n",
    "    def __lt__(self, other):\n",
    "        return self.frequency < other.frequency\n",
    "\n",
    "def build_huffman_tree(text):\n",
    "    frequency_counter = Counter(text)\n",
    "    priority_queue = [HuffmanNode(symbol, freq) for symbol, freq in frequency_counter.items()]\n",
    "    heapq.heapify(priority_queue)\n",
    "\n",
    "    while len(priority_queue) > 1:\n",
    "        left_child = heapq.heappop(priority_queue)\n",
    "        right_child = heapq.heappop(priority_queue)\n",
    "\n",
    "        merged_node = HuffmanNode(None, left_child.frequency + right_child.frequency)\n",
    "        merged_node.left = left_child\n",
    "        merged_node.right = right_child\n",
    "\n",
    "        heapq.heappush(priority_queue, merged_node)\n",
    "\n",
    "    return priority_queue[0]\n",
    "\n",
    "def build_huffman_codes(node, prefix=\"\", codes={}):\n",
    "    if node:\n",
    "        if node.value is not None:\n",
    "            codes[node.value] = prefix\n",
    "        build_huffman_codes(node.left, prefix + \"0\", codes)\n",
    "        build_huffman_codes(node.right, prefix + \"1\", codes)\n",
    "    return codes\n",
    "\n",
    "def huffman_encode(text, codes):\n",
    "    encoded_text = \"\"\n",
    "    for symbol in text:\n",
    "        encoded_text += codes[symbol]\n",
    "    return encoded_text\n",
    "\n",
    "def huffman_decode(encoded_text, tree):\n",
    "    decoded_text = \"\"\n",
    "    current_node = tree\n",
    "    for bit in encoded_text:\n",
    "        if bit == '0':\n",
    "            current_node = current_node.left\n",
    "        else:\n",
    "            current_node = current_node.right\n",
    "\n",
    "        if current_node.value is not None:\n",
    "            decoded_text += current_node.value\n",
    "            current_node = tree\n",
    "    return decoded_text"
   ]
  },
  {
   "cell_type": "code",
   "execution_count": 7,
   "id": "bf29da29",
   "metadata": {},
   "outputs": [],
   "source": [
    "def read_from_file(filename):\n",
    "    string = ''\n",
    "    with open(filename, \"r\", encoding='utf-8') as file:\n",
    "        for line in file:\n",
    "            string += line\n",
    "    return string"
   ]
  },
  {
   "cell_type": "code",
   "execution_count": 8,
   "id": "e0490a84",
   "metadata": {},
   "outputs": [],
   "source": [
    "string = read_from_file('harry_potter_and_the_prisoner_of_azkaban_and_harry_potter_and_the_sorcerers_stone.txt')"
   ]
  },
  {
   "cell_type": "code",
   "execution_count": 9,
   "id": "76bf1076",
   "metadata": {},
   "outputs": [],
   "source": [
    "encoded_string = LZ77_encode(string, window_size=60000)"
   ]
  },
  {
   "cell_type": "code",
   "execution_count": 11,
   "id": "5f0d9c57",
   "metadata": {},
   "outputs": [],
   "source": [
    "string = ''\n",
    "for item in encoded_string:\n",
    "    string += str(item[0]) + str(item[1]) + item[2]"
   ]
  },
  {
   "cell_type": "code",
   "execution_count": 14,
   "id": "8540c846",
   "metadata": {},
   "outputs": [],
   "source": [
    "tree = build_huffman_tree(string)\n",
    "codes = build_huffman_codes(tree)\n",
    "encoded_text = huffman_encode(string, codes)"
   ]
  },
  {
   "cell_type": "code",
   "execution_count": 15,
   "id": "682b2d06",
   "metadata": {},
   "outputs": [],
   "source": [
    "def huffman_to_file(filename, encoded_text):\n",
    "    with open(filename, \"wb\") as file:\n",
    "        for sub in range(0, len(encoded_text), 8):\n",
    "            byte = int(encoded_text[sub:sub+8],  2)\n",
    "            file.write(byte.to_bytes(1, byteorder='big'))\n",
    "        return"
   ]
  },
  {
   "cell_type": "code",
   "execution_count": 16,
   "id": "68c498ea",
   "metadata": {},
   "outputs": [],
   "source": [
    "huffman_to_file('encoded_harry_potter_and_the_prisoner_of_azkaban_and_harry_potter_and_the_sorcerers_stone.txt', encoded_text)"
   ]
  },
  {
   "cell_type": "code",
   "execution_count": null,
   "id": "056e9de9",
   "metadata": {},
   "outputs": [],
   "source": []
  }
 ],
 "metadata": {
  "kernelspec": {
   "display_name": "Python 3 (ipykernel)",
   "language": "python",
   "name": "python3"
  },
  "language_info": {
   "codemirror_mode": {
    "name": "ipython",
    "version": 3
   },
   "file_extension": ".py",
   "mimetype": "text/x-python",
   "name": "python",
   "nbconvert_exporter": "python",
   "pygments_lexer": "ipython3",
   "version": "3.11.3"
  }
 },
 "nbformat": 4,
 "nbformat_minor": 5
}
