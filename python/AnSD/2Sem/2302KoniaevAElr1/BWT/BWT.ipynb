{
 "cells": [
  {
   "cell_type": "code",
   "execution_count": 7,
   "id": "4daa315f",
   "metadata": {},
   "outputs": [
    {
     "name": "stdout",
     "output_type": "stream",
     "text": [
      "BWT: dolh$rellwo_\n",
      "Original text: hello_world$\n"
     ]
    }
   ],
   "source": [
    "def burrows_wheeler_transform(text):\n",
    "    rotations = [text[i:] + text[:i] for i in range(len(text))]\n",
    "    sorted_rotations = sorted(rotations)\n",
    "    bwt = ''.join(rotation[-1] for rotation in sorted_rotations)\n",
    "    idx = sorted_rotations.index(text)\n",
    "    return bwt, idx\n",
    "\n",
    "def inverse_burrows_wheeler_transform(bwt, idx):\n",
    "    table = [''] * len(bwt)\n",
    "    for i in range(len(bwt)):\n",
    "        table = sorted(bwt[i] + table[i] for i in range(len(bwt)))\n",
    "    text = table[idx]\n",
    "    return text\n",
    "\n",
    "# Пример использования:\n",
    "text = \"hello_world$\"\n",
    "bwt_result, idx = burrows_wheeler_transform(text)\n",
    "print(\"BWT:\", bwt_result)\n",
    "original_text = inverse_burrows_wheeler_transform(bwt_result, idx)\n",
    "print(\"Original text:\", original_text)"
   ]
  },
  {
   "cell_type": "code",
   "execution_count": 6,
   "id": "6250b3a7",
   "metadata": {},
   "outputs": [
    {
     "name": "stdout",
     "output_type": "stream",
     "text": [
      "Average length of repeated sequences: 3.0\n",
      "Result: 0.3157894736842105\n"
     ]
    }
   ],
   "source": [
    "def average_repeated_sequence_length(s):\n",
    "    total_length = 0\n",
    "    repeated_sequences_count = 0\n",
    "\n",
    "    i = 0\n",
    "    while i < len(s):\n",
    "        current_char = s[i]\n",
    "        sequence_length = 1\n",
    "\n",
    "        # Count the length of the repeated sequence\n",
    "        while i + 1 < len(s) and s[i + 1] == current_char:\n",
    "            sequence_length += 1\n",
    "            i += 1\n",
    "\n",
    "        if sequence_length > 1:\n",
    "            total_length += sequence_length\n",
    "            repeated_sequences_count += 1\n",
    "\n",
    "        i += 1\n",
    "\n",
    "    if repeated_sequences_count == 0:\n",
    "        return 0\n",
    "\n",
    "    average_length = total_length / repeated_sequences_count\n",
    "    result = (total_length - 2 * repeated_sequences_count) / len(s)\n",
    "\n",
    "    return average_length, result\n",
    "\n",
    "# Пример использования:\n",
    "s = \"aaabbbcccdddeeefffj\"\n",
    "avg_length, result = average_repeated_sequence_length(s)\n",
    "print(\"Average length of repeated sequences:\", avg_length)\n",
    "print(\"Result:\", result)"
   ]
  },
  {
   "cell_type": "code",
   "execution_count": 2,
   "id": "d84c831d",
   "metadata": {},
   "outputs": [
    {
     "name": "stdout",
     "output_type": "stream",
     "text": [
      "Suffix array for text banana$ : [6, 5, 3, 1, 0, 4, 2]\n"
     ]
    }
   ],
   "source": [
    "def naive_suffix_array(text):\n",
    "    suffixes = [(text[i:], i) for i in range(len(text))]\n",
    "    suffixes.sort(key=lambda x: x[0])\n",
    "    return [suffix[1] for suffix in suffixes]\n",
    "\n",
    "# Пример использования:\n",
    "text = \"banana$\"\n",
    "suffix_array = naive_suffix_array(text)\n",
    "print(\"Suffix array for text\", text, \":\", suffix_array)"
   ]
  },
  {
   "cell_type": "code",
   "execution_count": 3,
   "id": "68bd5232",
   "metadata": {},
   "outputs": [
    {
     "name": "stdout",
     "output_type": "stream",
     "text": [
      "Last column of Burrows-Wheeler matrix for text banana : nnbaaa\n"
     ]
    }
   ],
   "source": [
    "def bwt_last_column(text, suffix_array):\n",
    "    bwt = ''.join(text[i - 1] for i in suffix_array)\n",
    "    return ''.join(bwt)\n",
    "\n",
    "# Пример использования:\n",
    "text = \"banana\"\n",
    "suffix_array = naive_suffix_array(text)\n",
    "last_column = bwt_last_column(text, suffix_array)\n",
    "print(\"Last column of Burrows-Wheeler matrix for text\", text, \":\", last_column)"
   ]
  },
  {
   "cell_type": "code",
   "execution_count": 13,
   "id": "73363ac6",
   "metadata": {},
   "outputs": [
    {
     "name": "stdout",
     "output_type": "stream",
     "text": [
      "Suffix types for text banana$ : LSLSLLS\n"
     ]
    }
   ],
   "source": [
    "def suffix_types(text):\n",
    "    n = len(text)\n",
    "    types = [''] * n\n",
    "    \n",
    "    # Определяем тип суффикса для '$' как 'S'\n",
    "    types[n - 1] = 'S'\n",
    "    \n",
    "    # Проходим по символам строки справа налево\n",
    "    for i in range(n - 2, -1, -1):\n",
    "        # Если текущий символ меньше следующего, то суффикс типа 'S'\n",
    "        if text[i] < text[i + 1]:\n",
    "            types[i] = 'S'\n",
    "        # Если символы равыны, то суффикс типа предыдущего\n",
    "        elif text[i] == text[i + 1]:\n",
    "            types[i] = types[i + 1]\n",
    "        # Иначе суффикс типа 'L'\n",
    "        else:\n",
    "            types[i] = 'L'\n",
    "    \n",
    "    return ''.join(types)\n",
    "\n",
    "# Пример использования:\n",
    "text = \"banana$\"\n",
    "types = suffix_types(text)\n",
    "print(\"Suffix types for text\", text, \":\", types)"
   ]
  },
  {
   "cell_type": "code",
   "execution_count": null,
   "id": "713e01b7",
   "metadata": {},
   "outputs": [],
   "source": []
  }
 ],
 "metadata": {
  "kernelspec": {
   "display_name": "Python 3 (ipykernel)",
   "language": "python",
   "name": "python3"
  },
  "language_info": {
   "codemirror_mode": {
    "name": "ipython",
    "version": 3
   },
   "file_extension": ".py",
   "mimetype": "text/x-python",
   "name": "python",
   "nbconvert_exporter": "python",
   "pygments_lexer": "ipython3",
   "version": "3.11.3"
  }
 },
 "nbformat": 4,
 "nbformat_minor": 5
}
