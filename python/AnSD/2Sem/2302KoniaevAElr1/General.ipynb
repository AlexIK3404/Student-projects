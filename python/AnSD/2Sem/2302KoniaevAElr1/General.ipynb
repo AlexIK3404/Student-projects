{
 "cells": [
  {
   "cell_type": "markdown",
   "id": "38e0d71f",
   "metadata": {},
   "source": [
    "# 1. Чтение текста из файла в строку"
   ]
  },
  {
   "cell_type": "code",
   "execution_count": 1,
   "id": "1503722c",
   "metadata": {},
   "outputs": [],
   "source": [
    "def read_from_file(filename):\n",
    "    string = ''\n",
    "    with open(filename, \"r\", encoding='utf-8') as file:\n",
    "        for line in file:\n",
    "            string += line\n",
    "    return string"
   ]
  },
  {
   "cell_type": "markdown",
   "id": "c73c613c",
   "metadata": {},
   "source": [
    "# 2. Запись raw формата изображения в файл"
   ]
  },
  {
   "cell_type": "code",
   "execution_count": 2,
   "id": "3559b411",
   "metadata": {},
   "outputs": [],
   "source": [
    "def raw_to_file(array, filename):\n",
    "    with open(filename, \"wb\") as file:\n",
    "        for item in array:\n",
    "            file.write(item.to_bytes(1, byteorder='big', signed=False))\n",
    "    return"
   ]
  },
  {
   "cell_type": "markdown",
   "id": "60c7d4d9",
   "metadata": {},
   "source": [
    "# 3. Чтение raw формата изображения из файла"
   ]
  },
  {
   "cell_type": "code",
   "execution_count": 3,
   "id": "835b4b3e",
   "metadata": {},
   "outputs": [],
   "source": [
    "def raw_from_file(filename):\n",
    "    array = bytearray()\n",
    "    with open(filename, \"rb\") as file:\n",
    "        for item in file:\n",
    "            array += item\n",
    "    return array"
   ]
  },
  {
   "cell_type": "markdown",
   "id": "ea87ee95",
   "metadata": {},
   "source": [
    "# 4. RLE кодирование"
   ]
  },
  {
   "cell_type": "code",
   "execution_count": 41,
   "id": "ce2a1497",
   "metadata": {},
   "outputs": [],
   "source": [
    "def rle_encode(data):\n",
    "    if type(data) == str: data += '$'\n",
    "    else: data.append(0)\n",
    "    encoded_data = []\n",
    "    count = 1\n",
    "    for i in range(1, len(data)):\n",
    "        if data[i] == data[i-1]:\n",
    "            count += 1\n",
    "        else:\n",
    "            if count > 1: encoded_data.append((data[i-1], count))\n",
    "            else: encoded_data.append(data[i-1])\n",
    "            count = 1\n",
    "    single_count = 0\n",
    "    index = -1\n",
    "    labled_encoded_data = encoded_data.copy()\n",
    "    k = 0\n",
    "    for i in range(len(encoded_data)):\n",
    "        if not isinstance(encoded_data[i], tuple):\n",
    "            if single_count == 0: index = i\n",
    "            single_count += 1\n",
    "            if i == len(encoded_data)-1:\n",
    "                if single_count != 0:\n",
    "                    labled_encoded_data.insert(index+k, -single_count)\n",
    "                break\n",
    "        else:\n",
    "            if single_count != 0:\n",
    "                labled_encoded_data.insert(index+k, -single_count)\n",
    "                k += 1\n",
    "            single_count = 0   \n",
    "    \n",
    "    return labled_encoded_data"
   ]
  },
  {
   "cell_type": "markdown",
   "id": "f1fcb6a4",
   "metadata": {},
   "source": [
    "# 5. Запись закодированной RLE последовательности в файл"
   ]
  },
  {
   "cell_type": "code",
   "execution_count": 5,
   "id": "5f19702e",
   "metadata": {},
   "outputs": [],
   "source": [
    "def rle_to_file(encoded_data, filename, symbol_bytes, text_or_image):\n",
    "    if text_or_image == 'text':\n",
    "        with open(filename, 'wb') as file:\n",
    "            for item in encoded_data:\n",
    "                if isinstance(item, tuple):\n",
    "                    file.write(item[1].to_bytes(2, byteorder='big', signed=True))\n",
    "                    file.write(ord(item[0]).to_bytes(symbol_bytes, byteorder='big', signed=False))\n",
    "                else:\n",
    "                    if type(item) == int and item < 0:\n",
    "                        file.write(item.to_bytes(2, byteorder='big', signed=True))\n",
    "                    else:\n",
    "                        try:\n",
    "                            file.write(ord(item).to_bytes(symbol_bytes, byteorder='big', signed=False))\n",
    "                        except:\n",
    "                            print(item)\n",
    "    elif text_or_image == 'image':\n",
    "        with open(filename, 'wb') as file:\n",
    "            for item in encoded_data:\n",
    "                if isinstance(item, tuple):\n",
    "                    file.write(item[1].to_bytes(2, byteorder='big', signed=True))\n",
    "                    file.write(item[0].to_bytes(symbol_bytes, byteorder='big', signed=False))\n",
    "                else:\n",
    "                    if item < 0:\n",
    "                        file.write(item.to_bytes(2, byteorder='big', signed=True))\n",
    "                    else:\n",
    "                        file.write(item.to_bytes(symbol_bytes, byteorder='big', signed=False))\n",
    "    return"
   ]
  },
  {
   "cell_type": "markdown",
   "id": "a18adef7",
   "metadata": {},
   "source": [
    "# 6. Декодирование RLE из файла"
   ]
  },
  {
   "cell_type": "code",
   "execution_count": null,
   "id": "823bb3b5",
   "metadata": {},
   "outputs": [],
   "source": [
    "def decode_from_file(filename, symbol_bytes, text_or_image):\n",
    "    if text_or_image == 'text':\n",
    "        decoded_string = ''\n",
    "        with open(filename, 'rb') as file:\n",
    "            while True:\n",
    "                read_bytes = file.read(2)\n",
    "                if not read_bytes:\n",
    "                    break\n",
    "                int_val = int.from_bytes(read_bytes, \"big\", signed=True)\n",
    "                if int_val > 0:\n",
    "                    letter = chr(int.from_bytes(file.read(symbol_bytes), \"big\", signed=False))\n",
    "                    for _ in range(int_val):\n",
    "                        decoded_string += letter\n",
    "                else:\n",
    "                    for i in range(-int_val):\n",
    "                        decoded_string += chr(int.from_bytes(file.read(symbol_bytes), \"big\", signed=False))\n",
    "        return decoded_string\n",
    "    elif text_or_image == 'image':\n",
    "        decoded_list = []\n",
    "        with open(filename, 'rb') as file:\n",
    "            while True:\n",
    "                read_bytes = file.read(2)\n",
    "                if not read_bytes:\n",
    "                    break\n",
    "                int_val = int.from_bytes(read_bytes, \"big\", signed=True)\n",
    "                if int_val > 0:\n",
    "                    color = int.from_bytes(file.read(symbol_bytes), \"big\", signed=False)\n",
    "                    for _ in range(int_val):\n",
    "                        decoded_list.append(color)\n",
    "                else:\n",
    "                    for i in range(-int_val):\n",
    "                        decoded_list.append(int.from_bytes(file.read(symbol_bytes), \"big\", signed=False))\n",
    "        return decoded_list\n",
    "    return"
   ]
  },
  {
   "cell_type": "markdown",
   "id": "71c31ddd",
   "metadata": {},
   "source": [
    "# 7. Приведение изображения к заданному разрешению"
   ]
  },
  {
   "cell_type": "code",
   "execution_count": 10,
   "id": "05b401a7",
   "metadata": {},
   "outputs": [],
   "source": [
    "from PIL import Image\n",
    "import numpy as np\n",
    "\n",
    "def resize_image(image_path, target_resolution):\n",
    "    original_image = Image.open(image_path)\n",
    "    resized_image = original_image.resize(target_resolution, Image.BILINEAR)\n",
    "    return resized_image"
   ]
  },
  {
   "cell_type": "markdown",
   "id": "9c883a18",
   "metadata": {},
   "source": [
    "# 8. Приведение ЧБ изображения к raw формату"
   ]
  },
  {
   "cell_type": "code",
   "execution_count": 7,
   "id": "55088c76",
   "metadata": {},
   "outputs": [],
   "source": [
    "def image_to_raw_white_and_black(image_path):\n",
    "    # Открываем изображение с помощью PIL\n",
    "    img = Image.open(image_path)\n",
    "    # Преобразуем изображение в массив numpy\n",
    "    img_array = np.array(img)\n",
    "    # Приводим значения к диапазону от 0 до 255\n",
    "    img_array = img_array.astype(np.uint8)\n",
    "    # Получаем форму изображения\n",
    "    height, width, _ = img_array.shape\n",
    "    # Создаем пустой массив для raw данных\n",
    "    raw_data = bytearray()\n",
    "    # Добавляем значения цветности в raw данные\n",
    "    for i in range(height):\n",
    "        for j in range(width):\n",
    "            img_array[i, j, 0] = 255 if img_array[i, j, 0] > 132 else 0\n",
    "            raw_data.append(img_array[i, j, 0])\n",
    "    return raw_data, height, width"
   ]
  },
  {
   "cell_type": "markdown",
   "id": "8417a56c",
   "metadata": {},
   "source": [
    "# 9. Приведение серого изображения к raw формату"
   ]
  },
  {
   "cell_type": "code",
   "execution_count": 8,
   "id": "3c44cae0",
   "metadata": {},
   "outputs": [],
   "source": [
    "def image_to_raw_gray(image_path):\n",
    "    # Открываем изображение с помощью PIL\n",
    "    img = Image.open(image_path)\n",
    "    # Преобразуем изображение в массив numpy\n",
    "    img_array = np.array(img)\n",
    "    # Приводим значения к диапазону от 0 до 255\n",
    "    img_array = img_array.astype(np.uint8)\n",
    "    # Получаем форму изображения\n",
    "    height, width, _ = img_array.shape\n",
    "    # Создаем пустой массив для raw данных\n",
    "    raw_data = bytearray()\n",
    "    # Добавляем значения цветности в raw данные\n",
    "    for i in range(height):\n",
    "        for j in range(width):\n",
    "            raw_data.append(img_array[i, j, 0])\n",
    "    return raw_data, height, width"
   ]
  },
  {
   "cell_type": "markdown",
   "id": "fea0c367",
   "metadata": {},
   "source": [
    "# 10. Приведение RGB изображения к raw формату"
   ]
  },
  {
   "cell_type": "code",
   "execution_count": 9,
   "id": "31c931de",
   "metadata": {},
   "outputs": [],
   "source": [
    "def image_to_raw(image_path):\n",
    "    # Открываем изображение с помощью PIL\n",
    "    img = Image.open(image_path)\n",
    "    # Преобразуем изображение в массив numpy\n",
    "    img_array = np.array(img)\n",
    "    # Приводим значения к диапазону от 0 до 255\n",
    "    img_array = img_array.astype(np.uint8)\n",
    "    # Получаем форму изображения\n",
    "    height, width, channels = img_array.shape\n",
    "    # Создаем пустой массив для raw данных\n",
    "    raw_data = bytearray()\n",
    "    # Добавляем значения цветности в raw данные\n",
    "    for i in range(height):\n",
    "        for j in range(width):\n",
    "            for k in range(channels):\n",
    "                raw_data.append(img_array[i, j, k])\n",
    "    return raw_data, height, width, channels"
   ]
  },
  {
   "cell_type": "markdown",
   "id": "0a1026fb",
   "metadata": {},
   "source": [
    "# 11. Рассчёт энтропии"
   ]
  },
  {
   "cell_type": "code",
   "execution_count": 11,
   "id": "ee2a984f",
   "metadata": {},
   "outputs": [
    {
     "name": "stdout",
     "output_type": "stream",
     "text": [
      "Entropy: 1.8464393446710154\n"
     ]
    }
   ],
   "source": [
    "import math\n",
    "\n",
    "def entropy(probabilities):\n",
    "    entropy_value = 0.0\n",
    "    for probability in probabilities:\n",
    "        if probability != 0:\n",
    "            entropy_value -= probability * math.log2(probability)\n",
    "    return entropy_value\n",
    "\n",
    "# Пример использования\n",
    "probabilities = [0.1, 0.2, 0.3, 0.4]  # Пример массива вероятностей\n",
    "entropy_value = entropy(probabilities)\n",
    "print(\"Entropy:\", entropy_value)"
   ]
  },
  {
   "cell_type": "markdown",
   "id": "51a6d531",
   "metadata": {},
   "source": [
    "# 12. Построение дерева Хаффмана"
   ]
  },
  {
   "cell_type": "code",
   "execution_count": 12,
   "id": "d350c46d",
   "metadata": {},
   "outputs": [],
   "source": [
    "import heapq\n",
    "from collections import Counter, defaultdict\n",
    "\n",
    "class HuffmanNode:\n",
    "    def __init__(self, value, frequency):\n",
    "        self.value = value\n",
    "        self.frequency = frequency\n",
    "        self.left = None\n",
    "        self.right = None\n",
    "\n",
    "    def __lt__(self, other):\n",
    "        return self.frequency < other.frequency\n",
    "\n",
    "def build_huffman_tree(text):\n",
    "    frequency_counter = Counter(text)\n",
    "    priority_queue = [HuffmanNode(symbol, freq) for symbol, freq in frequency_counter.items()]\n",
    "    heapq.heapify(priority_queue)\n",
    "\n",
    "    while len(priority_queue) > 1:\n",
    "        left_child = heapq.heappop(priority_queue)\n",
    "        right_child = heapq.heappop(priority_queue)\n",
    "\n",
    "        merged_node = HuffmanNode(None, left_child.frequency + right_child.frequency)\n",
    "        merged_node.left = left_child\n",
    "        merged_node.right = right_child\n",
    "\n",
    "        heapq.heappush(priority_queue, merged_node)\n",
    "\n",
    "    return priority_queue[0]"
   ]
  },
  {
   "cell_type": "markdown",
   "id": "b88fe688",
   "metadata": {},
   "source": [
    "# 13. Построение кодов Хаффмана"
   ]
  },
  {
   "cell_type": "code",
   "execution_count": 13,
   "id": "38e6c0b4",
   "metadata": {},
   "outputs": [],
   "source": [
    "def build_huffman_codes(node, prefix=\"\", codes={}):\n",
    "    if node:\n",
    "        if node.value is not None:\n",
    "            codes[node.value] = prefix\n",
    "        build_huffman_codes(node.left, prefix + \"0\", codes)\n",
    "        build_huffman_codes(node.right, prefix + \"1\", codes)\n",
    "    return codes"
   ]
  },
  {
   "cell_type": "markdown",
   "id": "7bb19581",
   "metadata": {},
   "source": [
    "# 14. Кодирование текста алгоритмом сжатия Хаффмана"
   ]
  },
  {
   "cell_type": "code",
   "execution_count": 14,
   "id": "ce54af70",
   "metadata": {},
   "outputs": [],
   "source": [
    "def huffman_encode(text, codes):\n",
    "    encoded_text = \"\"\n",
    "    for symbol in text:\n",
    "        encoded_text += codes[symbol]\n",
    "    return encoded_text"
   ]
  },
  {
   "cell_type": "markdown",
   "id": "fbe3201b",
   "metadata": {},
   "source": [
    "# 15. Декодирование строки из кодов Хаффмана"
   ]
  },
  {
   "cell_type": "code",
   "execution_count": 15,
   "id": "c98f3c56",
   "metadata": {},
   "outputs": [],
   "source": [
    "def huffman_decode(encoded_text, tree):\n",
    "    decoded_text = \"\"\n",
    "    current_node = tree\n",
    "    for bit in encoded_text:\n",
    "        if bit == '0':\n",
    "            current_node = current_node.left\n",
    "        else:\n",
    "            current_node = current_node.right\n",
    "\n",
    "        if current_node.value is not None:\n",
    "            decoded_text += current_node.value\n",
    "            current_node = tree\n",
    "    return decoded_text"
   ]
  },
  {
   "cell_type": "markdown",
   "id": "a2e7b00a",
   "metadata": {},
   "source": [
    "# 16. Набор канонических кодов"
   ]
  },
  {
   "cell_type": "code",
   "execution_count": 16,
   "id": "1e249bc5",
   "metadata": {},
   "outputs": [],
   "source": [
    "def canonical_huffman_codes(huffman_codes):\n",
    "    sorted_codes = sorted((len(code), code) for code in huffman_codes)\n",
    "    canonical_codes = [''] * len(huffman_codes)\n",
    "    length = 0\n",
    "    for i, (l, code) in enumerate(sorted_codes):\n",
    "        if l > length:\n",
    "            length = l\n",
    "        canonical_codes[i] = code + '0' * (length - l)\n",
    "    return canonical_codes"
   ]
  },
  {
   "cell_type": "markdown",
   "id": "af0a3e93",
   "metadata": {},
   "source": [
    "# 17. Построение канонических кодов по массиву длин"
   ]
  },
  {
   "cell_type": "code",
   "execution_count": 18,
   "id": "92f908cf",
   "metadata": {},
   "outputs": [],
   "source": [
    "# Функция для инкрементирования бинарной строки\n",
    "def increment_binary_string(binary_string):\n",
    "    binary_list = list(binary_string)\n",
    "    for i in range(len(binary_list) - 1, -1, -1):\n",
    "        if binary_list[i] == '0':\n",
    "            binary_list[i] = '1'\n",
    "            break\n",
    "        else:\n",
    "            binary_list[i] = '0'\n",
    "    return ''.join(binary_list)\n",
    "\n",
    "def canonical_huffman_codes_from_lengths(code_lengths):\n",
    "    # Создаем список пар (длина, индекс)\n",
    "    sorted_lengths = sorted((length, index) for index, length in enumerate(code_lengths))\n",
    "\n",
    "    # Инициализируем массив канонических кодов\n",
    "    canonical_codes = [''] * len(code_lengths)\n",
    "\n",
    "    # Предыдущий код\n",
    "    previous_code = \"\"\n",
    "\n",
    "    # Текущая длина кода\n",
    "    current_length = 0\n",
    "\n",
    "    for length, index in sorted_lengths:\n",
    "        # Если длина кода увеличивается, добавляем '0' к предыдущему коду\n",
    "        if length > current_length:\n",
    "            previous_code += '0' * (length - current_length)\n",
    "            current_length = length\n",
    "\n",
    "        # Строим канонический код, добавляя по одному биту\n",
    "        canonical_codes[index] = previous_code\n",
    "        previous_code = increment_binary_string(previous_code)\n",
    "\n",
    "    return canonical_codes"
   ]
  },
  {
   "cell_type": "markdown",
   "id": "38223988",
   "metadata": {},
   "source": [
    "# 18. Запись последовательности из кодов Хаффмана в файл"
   ]
  },
  {
   "cell_type": "code",
   "execution_count": 19,
   "id": "618245a0",
   "metadata": {},
   "outputs": [],
   "source": [
    "def huffman_to_file(filename):\n",
    "    with open(filename, \"wb\") as file:\n",
    "        for sub in range(0, len(encoded_text), 8):\n",
    "            byte = int(encoded_text[sub:sub+8],  2)\n",
    "            file.write(byte.to_bytes(1, byteorder='big'))\n",
    "        return"
   ]
  },
  {
   "cell_type": "markdown",
   "id": "9067a1dd",
   "metadata": {},
   "source": [
    "# 19. Чтение последовательности из кодов Хаффмана из файла"
   ]
  },
  {
   "cell_type": "code",
   "execution_count": 20,
   "id": "88c3e134",
   "metadata": {},
   "outputs": [],
   "source": [
    "def huffman_from_file(filename):\n",
    "    string = ''\n",
    "    with open(filename, \"rb\") as file:\n",
    "        while True:\n",
    "            byte = file.read(1)\n",
    "            if not byte:\n",
    "                break\n",
    "            code = bin(int.from_bytes(byte, byteorder='big'))[2:]\n",
    "            if len(code) < 8: code = '0' * (8 - len(code)) + code\n",
    "            string += code\n",
    "        return string"
   ]
  },
  {
   "cell_type": "markdown",
   "id": "2764d41e",
   "metadata": {},
   "source": [
    "# 20. Арифметическое кодирование"
   ]
  },
  {
   "cell_type": "code",
   "execution_count": 21,
   "id": "caf3f9cd",
   "metadata": {},
   "outputs": [],
   "source": [
    "def arithmetic_coding_encode(input_string, frequency_dict, step=4):\n",
    "    # Инициализируем начальные значения\n",
    "    low = 0.0\n",
    "    high = 1.0\n",
    "    values_list = []\n",
    "\n",
    "    i = 0\n",
    "    # Проходимся по каждому символу в строке\n",
    "    for symbol in input_string:\n",
    "\n",
    "        # Обновляем границы интервала\n",
    "        symbol_index = list(frequency_dict.keys()).index(symbol)\n",
    "        new_low = low + (high - low) * (list(frequency_dict.values())[symbol_index - 1] if symbol_index != 0 else 0)\n",
    "        new_high = low + (high - low) * list(frequency_dict.values())[symbol_index]\n",
    "\n",
    "        # Обновляем нижнюю границу\n",
    "        low = new_low\n",
    "\n",
    "        # Обновляем верхнюю границу\n",
    "        high = new_high\n",
    "\n",
    "        i += 1\n",
    "        if i == step or step * len(values_list) + i == len(input_string):\n",
    "            values_list.append((low + high) / 2)\n",
    "            low = 0.0\n",
    "            high = 1.0\n",
    "            i = 0\n",
    "\n",
    "    return values_list"
   ]
  },
  {
   "cell_type": "markdown",
   "id": "5f8d4cf4",
   "metadata": {},
   "source": [
    "# 21. Декодирование арифметического кодирования"
   ]
  },
  {
   "cell_type": "code",
   "execution_count": 22,
   "id": "507afac7",
   "metadata": {},
   "outputs": [],
   "source": [
    "def arithmetic_coding_decode(encoded_values, frequency_dict, input_string_length, step=4):\n",
    "    # Восстанавливаем исходную строку\n",
    "    decoded_string = \"\"\n",
    "\n",
    "    i = 0\n",
    "    k = 0\n",
    "    for _ in range(input_string_length):\n",
    "        # Ищем символ в частотном словаре\n",
    "        for symbol, symbol_high in frequency_dict.items():\n",
    "\n",
    "            symbol_index = list(frequency_dict.keys()).index(symbol)\n",
    "            symbol_low = list(frequency_dict.values())[symbol_index - 1] if symbol_index != 0 else 0\n",
    "            # Если значение в пределах интервала для текущего символа\n",
    "            if symbol_low <= encoded_values[k]+pow(10, -10) < symbol_high:\n",
    "                decoded_string += symbol\n",
    "\n",
    "                i += 1\n",
    "                if i == step:\n",
    "                    k += 1\n",
    "                    i = 0\n",
    "                else:\n",
    "                    encoded_values[k] = (encoded_values[k] - symbol_low) / (symbol_high - symbol_low)\n",
    "\n",
    "                break\n",
    "\n",
    "    return decoded_string"
   ]
  },
  {
   "cell_type": "markdown",
   "id": "47c63f99",
   "metadata": {},
   "source": [
    "# 22. Построение словаря с границами"
   ]
  },
  {
   "cell_type": "code",
   "execution_count": 23,
   "id": "e181ae6e",
   "metadata": {},
   "outputs": [],
   "source": [
    "from collections import Counter\n",
    "\n",
    "def build_frequency_dict(text):\n",
    "    frequency_dict = Counter(text)\n",
    "\n",
    "    num_frequency_dict = {}\n",
    "    point = 1 / sum(frequency_dict.values())\n",
    "    num = 0\n",
    "    for key in frequency_dict:\n",
    "        num += point * frequency_dict[key]\n",
    "        num_frequency_dict[key] = num\n",
    "\n",
    "    return num_frequency_dict"
   ]
  },
  {
   "cell_type": "markdown",
   "id": "69388789",
   "metadata": {},
   "source": [
    "# 23. Запись арифметического кодирования в файл"
   ]
  },
  {
   "cell_type": "code",
   "execution_count": 24,
   "id": "89c53c72",
   "metadata": {},
   "outputs": [],
   "source": [
    "import struct\n",
    "\n",
    "def arithmetic_to_file(filename, encoded_text, dictionary, text_len):\n",
    "    with open(filename, 'wb') as file:\n",
    "        file.write(text_len.to_bytes(6, byteorder='big'))\n",
    "        for item in encoded_text:\n",
    "            file.write(bytearray(struct.pack(\"f\", item)))\n",
    "        for key in dictionary:\n",
    "            file.write(ord(key).to_bytes(2, byteorder='big'))\n",
    "            file.write(bytearray(struct.pack(\"f\", dictionary[key])))\n",
    "    return"
   ]
  },
  {
   "cell_type": "markdown",
   "id": "b904b518",
   "metadata": {},
   "source": [
    "# 24. Чтение арифметического кодирования из файла"
   ]
  },
  {
   "cell_type": "code",
   "execution_count": 25,
   "id": "27ba2f54",
   "metadata": {},
   "outputs": [],
   "source": [
    "def arithmetic_from_file(filename, step=4):\n",
    "    with open(filename, 'rb') as file:\n",
    "        text_len = int.from_bytes(file.read(6), byteorder='big')\n",
    "        encoded_text = []\n",
    "        for i in range(math.ceil(text_len / step)):\n",
    "            encoded_text.append(struct.unpack(\"f\", file.read(4))[0])\n",
    "        \n",
    "        dictionary = {}\n",
    "        while True:\n",
    "            tmp = file.read(2)\n",
    "            if not tmp:\n",
    "                break\n",
    "            letter = chr(int.from_bytes(tmp, byteorder='big'))\n",
    "            count = struct.unpack(\"f\", file.read(4))[0]\n",
    "            dictionary[letter] = count\n",
    "    \n",
    "    return encoded_text, dictionary, text_len"
   ]
  },
  {
   "cell_type": "markdown",
   "id": "0d61d135",
   "metadata": {},
   "source": [
    "# 25. Наивная реализация BWT"
   ]
  },
  {
   "cell_type": "code",
   "execution_count": 27,
   "id": "a9e623e8",
   "metadata": {},
   "outputs": [],
   "source": [
    "def burrows_wheeler_transform(text):\n",
    "    rotations = [text[i:] + text[:i] for i in range(len(text))]\n",
    "    sorted_rotations = sorted(rotations)\n",
    "    bwt = ''.join(rotation[-1] for rotation in sorted_rotations)\n",
    "    idx = sorted_rotations.index(text)\n",
    "    return bwt, idx"
   ]
  },
  {
   "cell_type": "markdown",
   "id": "67b22cfe",
   "metadata": {},
   "source": [
    "# 26. Обратное преобразование BWT"
   ]
  },
  {
   "cell_type": "code",
   "execution_count": 28,
   "id": "f6ada86c",
   "metadata": {},
   "outputs": [],
   "source": [
    "def inverse_burrows_wheeler_transform(bwt, idx):\n",
    "    table = [''] * len(bwt)\n",
    "    for i in range(len(bwt)):\n",
    "        table = sorted(bwt[i] + table[i] for i in range(len(bwt)))\n",
    "    text = table[idx]\n",
    "    return text"
   ]
  },
  {
   "cell_type": "markdown",
   "id": "2f78a480",
   "metadata": {},
   "source": [
    "# 27. Нахождение средней длинны последовательностей с повторяющимися символами"
   ]
  },
  {
   "cell_type": "code",
   "execution_count": 29,
   "id": "60d06d5c",
   "metadata": {},
   "outputs": [],
   "source": [
    "def average_repeated_sequence_length(s):\n",
    "    total_length = 0\n",
    "    repeated_sequences_count = 0\n",
    "\n",
    "    i = 0\n",
    "    while i < len(s):\n",
    "        current_char = s[i]\n",
    "        sequence_length = 1\n",
    "\n",
    "        # Count the length of the repeated sequence\n",
    "        while i + 1 < len(s) and s[i + 1] == current_char:\n",
    "            sequence_length += 1\n",
    "            i += 1\n",
    "\n",
    "        if sequence_length > 1:\n",
    "            total_length += sequence_length\n",
    "            repeated_sequences_count += 1\n",
    "\n",
    "        i += 1\n",
    "\n",
    "    if repeated_sequences_count == 0:\n",
    "        return 0\n",
    "\n",
    "    average_length = total_length / repeated_sequences_count\n",
    "    result = (total_length - 2 * repeated_sequences_count) / len(s)\n",
    "\n",
    "    return average_length, result"
   ]
  },
  {
   "cell_type": "markdown",
   "id": "373962b8",
   "metadata": {},
   "source": [
    "# 28. Наивная реализация построения суффиксного массива"
   ]
  },
  {
   "cell_type": "code",
   "execution_count": 30,
   "id": "d31dc44b",
   "metadata": {},
   "outputs": [],
   "source": [
    "def naive_suffix_array(text):\n",
    "    suffixes = [(text[i:], i) for i in range(len(text))]\n",
    "    suffixes.sort(key=lambda x: x[0])\n",
    "    return [suffix[1] for suffix in suffixes]"
   ]
  },
  {
   "cell_type": "markdown",
   "id": "2b757047",
   "metadata": {},
   "source": [
    "# 29. Получение последнего столбца BWT с помощью суффиксного массива"
   ]
  },
  {
   "cell_type": "code",
   "execution_count": 31,
   "id": "48170767",
   "metadata": {},
   "outputs": [],
   "source": [
    "def bwt_last_column(text, suffix_array):\n",
    "    bwt = ''.join(text[i - 1] for i in suffix_array)\n",
    "    return ''.join(bwt)"
   ]
  },
  {
   "cell_type": "markdown",
   "id": "e17ef038",
   "metadata": {},
   "source": [
    "# 30. Определение типа суффикса"
   ]
  },
  {
   "cell_type": "code",
   "execution_count": 32,
   "id": "8854a510",
   "metadata": {},
   "outputs": [],
   "source": [
    "def suffix_types(text):\n",
    "    n = len(text)\n",
    "    types = [''] * n\n",
    "    \n",
    "    # Определяем тип суффикса для '$' как 'S'\n",
    "    types[n - 1] = 'S'\n",
    "    \n",
    "    # Проходим по символам строки справа налево\n",
    "    for i in range(n - 2, -1, -1):\n",
    "        # Если текущий символ меньше следующего, то суффикс типа 'S'\n",
    "        if text[i] < text[i + 1]:\n",
    "            types[i] = 'S'\n",
    "        # Если символы равыны, то суффикс типа предыдущего\n",
    "        elif text[i] == text[i + 1]:\n",
    "            types[i] = types[i + 1]\n",
    "        # Иначе суффикс типа 'L'\n",
    "        else:\n",
    "            types[i] = 'L'\n",
    "    \n",
    "    return ''.join(types)"
   ]
  },
  {
   "cell_type": "markdown",
   "id": "b52e59fa",
   "metadata": {},
   "source": [
    "# 31. Эффективная реализация обратного преобразования BWT"
   ]
  },
  {
   "cell_type": "code",
   "execution_count": 36,
   "id": "a53ff90f",
   "metadata": {},
   "outputs": [
    {
     "data": {
      "text/plain": [
       "'banana$'"
      ]
     },
     "execution_count": 36,
     "metadata": {},
     "output_type": "execute_result"
    }
   ],
   "source": [
    "# Python program for the above approach\n",
    "\n",
    "import string\n",
    "\n",
    "# Structure to store info of a node of linked list\n",
    "class Node:\n",
    "\tdef __init__(self, data):\n",
    "\t\tself.data = data\n",
    "\t\tself.next = None\n",
    "\n",
    "# Does insertion at end in the linked list\n",
    "def addAtLast(head, nn):\n",
    "\tif head is None:\n",
    "\t\thead = nn\n",
    "\t\treturn head\n",
    "\ttemp = head\n",
    "\twhile temp.next is not None:\n",
    "\t\ttemp = temp.next\n",
    "\ttemp.next = nn\n",
    "\treturn head\n",
    "\n",
    "# Computes l_shift[]\n",
    "def computeLShift(head, index, l_shift):\n",
    "\tl_shift[index] = head.data\n",
    "\thead = head.next\n",
    "\n",
    "# Compares the characters of bwt_arr[] and sorts them alphabetically\n",
    "def cmpfunc(a, b):\n",
    "\treturn ord(a) - ord(b)\n",
    "\n",
    "def invert(bwt_arr):\n",
    "\tlen_bwt = len(bwt_arr)\n",
    "\tsorted_bwt = sorted(bwt_arr)\n",
    "\tl_shift = [0] * len_bwt\n",
    "\n",
    "\t# Index at which original string appears\n",
    "\t# in the sorted rotations list\n",
    "\tx = 4\n",
    "\n",
    "\t# Array of lists to compute l_shift\n",
    "\tarr = [[] for i in range(256)]\n",
    "\n",
    "\t# Adds each character of bwt_arr to a linked list\n",
    "\t# and appends to it the new node whose data part\n",
    "\t# contains index at which character occurs in bwt_arr\n",
    "\tfor i in range(len_bwt):\n",
    "\t\tarr[ord(bwt_arr[i])].append(i)\n",
    "\n",
    "\t# Adds each character of sorted_bwt to a linked list\n",
    "\t# and finds l_shift\n",
    "\tfor i in range(len_bwt):\n",
    "\t\tl_shift[i] = arr[ord(sorted_bwt[i])].pop(0)\n",
    "\n",
    "\t# Decodes the bwt\n",
    "\tdecoded = [''] * len_bwt\n",
    "\tfor i in range(len_bwt):\n",
    "\t\tx = l_shift[x]\n",
    "\t\tdecoded[len_bwt-1-i] = bwt_arr[x]\n",
    "\tdecoded_str = ''.join(decoded)\n",
    "\n",
    "\treturn decoded_str[::-1]\n",
    "\n",
    "bwt_arr = \"annb$aa\"\n",
    "invert(bwt_arr)"
   ]
  },
  {
   "cell_type": "markdown",
   "id": "9159f630",
   "metadata": {},
   "source": [
    "# 32. Чтение из файла вместе с преобразованием BWT частей текста"
   ]
  },
  {
   "cell_type": "code",
   "execution_count": 40,
   "id": "84131eb8",
   "metadata": {},
   "outputs": [],
   "source": [
    "def read_from_file_with_bwt(filename):\n",
    "    string = ''\n",
    "    with open(filename, \"r\", encoding='utf-8') as file:\n",
    "        i = 1\n",
    "        tmp_string = ''\n",
    "        for line in file:\n",
    "            tmp_string += line\n",
    "            if i % 300 == 0:\n",
    "                suffix_array = naive_suffix_array(tmp_string)\n",
    "                string += bwt_last_column(tmp_string, suffix_array) + '$'\n",
    "                i = 1\n",
    "                tmp_string = ''\n",
    "            i += 1\n",
    "        suffix_array = naive_suffix_array(tmp_string)\n",
    "        string += bwt_last_column(tmp_string, suffix_array) + '$'\n",
    "    return string"
   ]
  },
  {
   "cell_type": "markdown",
   "id": "2970ff47",
   "metadata": {},
   "source": [
    "# 33. Декодирование BWT по блокам"
   ]
  },
  {
   "cell_type": "code",
   "execution_count": 37,
   "id": "5d0f3c91",
   "metadata": {},
   "outputs": [],
   "source": [
    "def bwt_bloks_decoding(string):\n",
    "    tmp_string = ''\n",
    "    decoded_string = ''\n",
    "    for sub in string:\n",
    "        if sub != '$':\n",
    "            tmp_string += sub\n",
    "        else:\n",
    "            inverted_string = invert(tmp_string)\n",
    "            if inverted_string != None:\n",
    "                decoded_string += invert(tmp_string)\n",
    "            tmp_string = ''\n",
    "    return decoded_string"
   ]
  },
  {
   "cell_type": "markdown",
   "id": "ecbb8771",
   "metadata": {},
   "source": [
    "# 34. MTF"
   ]
  },
  {
   "cell_type": "code",
   "execution_count": 38,
   "id": "72eaaa06",
   "metadata": {},
   "outputs": [],
   "source": [
    "def move_to_front_encode(s):\n",
    "    alphabet = list(range(256))  # Создаем алфавит из всех возможных символов (ASCII)\n",
    "    encoded = []\n",
    "\n",
    "    for char in s:\n",
    "        index = alphabet.index(ord(char))  # Находим индекс символа в алфавите\n",
    "        encoded.append(index)  # Добавляем индекс в закодированную строку\n",
    "        # Перемещаем символ в начало алфавита\n",
    "        alphabet.insert(0, alphabet.pop(index))\n",
    "\n",
    "    return encoded"
   ]
  },
  {
   "cell_type": "markdown",
   "id": "89c63837",
   "metadata": {},
   "source": [
    "# 35. Обртаное преобразование MTF"
   ]
  },
  {
   "cell_type": "code",
   "execution_count": 39,
   "id": "422a2426",
   "metadata": {},
   "outputs": [],
   "source": [
    "def move_to_front_decode(encoded):\n",
    "    alphabet = list(range(256))  # Создаем алфавит из всех возможных символов (ASCII)\n",
    "    decoded = []\n",
    "\n",
    "    for index in encoded:\n",
    "        char = chr(alphabet[index])  # Находим символ по индексу в алфавите\n",
    "        decoded.append(char)  # Добавляем символ в декодированную строку\n",
    "        # Перемещаем символ в начало алфавита\n",
    "        alphabet.insert(0, alphabet.pop(index))\n",
    "\n",
    "    return ''.join(decoded)"
   ]
  },
  {
   "cell_type": "code",
   "execution_count": null,
   "id": "3af5befd",
   "metadata": {},
   "outputs": [],
   "source": []
  }
 ],
 "metadata": {
  "kernelspec": {
   "display_name": "Python 3 (ipykernel)",
   "language": "python",
   "name": "python3"
  },
  "language_info": {
   "codemirror_mode": {
    "name": "ipython",
    "version": 3
   },
   "file_extension": ".py",
   "mimetype": "text/x-python",
   "name": "python",
   "nbconvert_exporter": "python",
   "pygments_lexer": "ipython3",
   "version": "3.11.3"
  }
 },
 "nbformat": 4,
 "nbformat_minor": 5
}
