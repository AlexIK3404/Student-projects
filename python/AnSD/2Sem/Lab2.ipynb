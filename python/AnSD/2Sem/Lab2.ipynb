{
 "cells": [
  {
   "cell_type": "code",
   "execution_count": 155,
   "id": "88e955ba",
   "metadata": {},
   "outputs": [],
   "source": [
    "from PIL import Image\n",
    "import numpy as np"
   ]
  },
  {
   "cell_type": "markdown",
   "id": "c6bff6cb",
   "metadata": {},
   "source": [
    "# 1. Приведение изображения к raw формату"
   ]
  },
  {
   "cell_type": "code",
   "execution_count": 156,
   "id": "c7a93823",
   "metadata": {},
   "outputs": [],
   "source": [
    "def imgtoraw(img):\n",
    "    imgar = np.array(img)\n",
    "    return imgar"
   ]
  },
  {
   "cell_type": "markdown",
   "id": "bc46970b",
   "metadata": {},
   "source": [
    "# 2. Конвертация RGB в YCbCr"
   ]
  },
  {
   "cell_type": "code",
   "execution_count": 3,
   "id": "0fc7124c",
   "metadata": {},
   "outputs": [],
   "source": [
    "def rgbtoycbcr(arr):\n",
    "    y = np.zeros(len(arr)*len(arr[0]))\n",
    "    Cb = np.zeros(len(arr)*len(arr[0]))\n",
    "    Cr = np.zeros(len(arr)*len(arr[0]))\n",
    "    for i in range(len(arr)):\n",
    "        for j in range(len(arr[0])):\n",
    "            y[j+i*len(arr[0])] = 0.299 * arr[i][j][0] + 0.587 * arr[i][j][1] + 0.114 * arr[i][j][2] + 16\n",
    "            Cb[j+i*len(arr[0])] = -0.148 * arr[i][j][0] - 0.29 * arr[i][j][1] + 0.439 * arr[i][j][2] + 128\n",
    "            Cr[j+i*len(arr[0])] = 0.439 * arr[i][j][0] - 0.367 * arr[i][j][1] + 0.07 * arr[i][j][2] + 128\n",
    "    return y,Cb,Cr\n",
    "\n",
    "img = Image.open(\"lena.png\")\n",
    "img = img.resize((400,400))\n",
    "arr = imgtoraw(img)\n",
    "y,Cb,Cr = rgbtoycbcr(arr)\n",
    "y1 = np.reshape(y, (len(arr), len(arr[0])))\n",
    "Cb1 = np.reshape(Cb, (len(arr), len(arr[0])))\n",
    "Cr1 = np.reshape(Cr, (len(arr), len(arr[0])))\n",
    "imy = Image.fromarray(y1.astype(np.uint8))\n",
    "imcb = Image.fromarray(Cb1.astype(np.uint8))\n",
    "imcr = Image.fromarray(Cr1.astype(np.uint8))\n",
    "res_ycbcr = []\n",
    "for i in range(len(y)):\n",
    "    res_ycbcr.append([y[i],Cb[i],Cr[i]])\n",
    "res_ycbcr = np.array(res_ycbcr)\n",
    "res_ycbcr = np.reshape(res_ycbcr,(len(arr),len(arr[0]),3))\n",
    "immg = Image.fromarray(res_ycbcr.astype(np.uint8), mode='YCbCr')\n",
    "\n",
    "img.show()\n",
    "imy.show()\n",
    "imcb.show()\n",
    "imcr.show()\n",
    "immg.show()\n",
    "\n",
    "img.close()\n",
    "imy.close()\n",
    "imcb.close()\n",
    "imcr.close()\n",
    "immg.close()"
   ]
  },
  {
   "cell_type": "markdown",
   "id": "ac4cc36c",
   "metadata": {},
   "source": [
    "# 3. Конвертация YCbCr в RGB"
   ]
  },
  {
   "cell_type": "code",
   "execution_count": null,
   "id": "904d9b49",
   "metadata": {},
   "outputs": [],
   "source": [
    "def ycbcrtorgb(arr):\n",
    "    r = np.zeros(len(arr)*len(arr[0]))\n",
    "    g = np.zeros(len(arr)*len(arr[0]))\n",
    "    b = np.zeros(len(arr)*len(arr[0]))\n",
    "    for i in range(len(arr)):\n",
    "        for j in range(len(arr[0])):\n",
    "            r[j+i*len(arr[0])] = (arr[i][j][0]-16) * 0.774 - 0.456 * (arr[i][j][1]-128) + 1.597 * (arr[i][j][2]-128)\n",
    "            g[j+i*len(arr[0])] = (arr[i][j][0]-16) * 1.116 - 0.16 * (arr[i][j][1]-128) - 0.814 * (arr[i][j][2]-128)\n",
    "            b[j+i*len(arr[0])] = (arr[i][j][0]-16) * 0.998 + 2.019 * (arr[i][j][1]-128) + 9.12 * (arr[i][j][2]-128)\n",
    "    return r,g,b\n",
    "\n",
    "R,G,B = ycbcrtorgb(res_ycbcr)\n",
    "r = np.reshape(R, (len(res_ycbcr), len(res_ycbcr[0])))\n",
    "g = np.reshape(G, (len(res_ycbcr), len(res_ycbcr[0])))\n",
    "b = np.reshape(B, (len(res_ycbcr), len(res_ycbcr[0])))\n",
    "imr = Image.fromarray(r.astype(np.uint8))\n",
    "res_rgb = []\n",
    "for j in range(len(R)):\n",
    "    res_rgb.append([R[j],G[j],B[j]])\n",
    "res_rgb = np.array(res_rgb)\n",
    "res_rgb = np.reshape(res_rgb,(len(res_ycbcr),len(res_ycbcr[0]), 3))\n",
    "immg = Image.fromarray(res_rgb.astype(np.uint8), mode='RGB')\n",
    "\n",
    "imr.show()\n",
    "immg.show()\n",
    "\n",
    "imr.close()\n",
    "immg.close()"
   ]
  },
  {
   "cell_type": "markdown",
   "id": "28caca4a",
   "metadata": {},
   "source": [
    "# 4. Обход матрицы зигзагом"
   ]
  },
  {
   "cell_type": "code",
   "execution_count": 141,
   "id": "6c7fdb4b",
   "metadata": {},
   "outputs": [
    {
     "name": "stdout",
     "output_type": "stream",
     "text": [
      "[ 1  2  5  9  6  3  4  7 10 11  8 12]\n"
     ]
    }
   ],
   "source": [
    "def zigzag_order(matrix):\n",
    "\n",
    "    rows, cols = matrix.shape\n",
    "    result = np.zeros(rows * cols, dtype=int)\n",
    "    index = -1\n",
    "    bound = rows + cols - 1\n",
    "    for i in range(bound):\n",
    "        if i % 2 == 0:\n",
    "            r = i if i < rows else rows - 1\n",
    "            c = 0 if i < rows else i - rows + 1\n",
    "            while r >= 0 and c < cols:\n",
    "                index += 1\n",
    "                result[index] = matrix[r, c]\n",
    "                r -= 1\n",
    "                c += 1\n",
    "        else:\n",
    "            r = 0 if i < cols else i - cols + 1\n",
    "            c = i if i < cols else cols - 1\n",
    "            while r < rows and c >= 0:\n",
    "                index += 1\n",
    "                result[index] = matrix[r, c]\n",
    "                r += 1\n",
    "                c -= 1\n",
    "    return result\n",
    "\n",
    "matrix = [\n",
    "    [1, 2, 3, 4],\n",
    "    [5, 6, 7, 8],\n",
    "    [9, 10, 11, 12]\n",
    "]\n",
    "\n",
    "print(zigzag_order(np.array(matrix)))\n"
   ]
  },
  {
   "cell_type": "markdown",
   "id": "8be6730c",
   "metadata": {},
   "source": [
    "# 5. Обратная сборка матрицы после обхода зигзагом"
   ]
  },
  {
   "cell_type": "code",
   "execution_count": 144,
   "id": "1e2ab44c",
   "metadata": {},
   "outputs": [
    {
     "name": "stdout",
     "output_type": "stream",
     "text": [
      "[[ 1  2  3  4]\n",
      " [ 5  6  7  8]\n",
      " [ 9 10 11 12]]\n"
     ]
    }
   ],
   "source": [
    "def inverse_zigzag_order(array, rows, cols):\n",
    "    matrix = np.zeros((rows, cols), dtype=int)\n",
    "    index = -1\n",
    "    bound = rows + cols - 1\n",
    "    for i in range(bound):\n",
    "        if i % 2 == 0:\n",
    "            r = i if i < rows else rows - 1\n",
    "            c = 0 if i < rows else i - rows + 1\n",
    "            while r >= 0 and c < cols:\n",
    "                index += 1\n",
    "                matrix[r, c] = array[index]\n",
    "                r -= 1\n",
    "                c += 1\n",
    "        else:\n",
    "            r = 0 if i < cols else i - cols + 1\n",
    "            c = i if i < cols else cols - 1\n",
    "            while r < rows and c >= 0:\n",
    "                index += 1\n",
    "                matrix[r, c] = array[index]\n",
    "                r += 1\n",
    "                c -= 1\n",
    "    return matrix\n",
    "\n",
    "print(inverse_zigzag_order(zigzag_order(np.array(matrix)), 3, 4))"
   ]
  },
  {
   "cell_type": "markdown",
   "id": "e8b51cb4",
   "metadata": {},
   "source": [
    "# 6. Даунсэмплинг"
   ]
  },
  {
   "cell_type": "code",
   "execution_count": 5,
   "id": "d3531cf1",
   "metadata": {},
   "outputs": [
    {
     "name": "stdout",
     "output_type": "stream",
     "text": [
      "Remove method:\n",
      "[[ 1  3]\n",
      " [ 9 11]]\n",
      "\n",
      "Mean method:\n",
      "[[ 3.5  5.5]\n",
      " [11.5 13.5]]\n",
      "\n",
      "Closest to mean method:\n",
      "[[ 2.  4.]\n",
      " [10. 12.]]\n"
     ]
    }
   ],
   "source": [
    "def downsample_image(image, Cx, Cy, method='remove'):\n",
    "    N, M = image.shape\n",
    "    new_N, new_M = N // Cx, M // Cy\n",
    "    \n",
    "    if method == 'remove':\n",
    "        return image[::Cx, ::Cy]\n",
    "\n",
    "    downsampled = np.zeros((new_N, new_M))\n",
    "\n",
    "    for i in range(new_N):\n",
    "        for j in range(new_M):\n",
    "            block = image[i*Cx:(i+1)*Cx, j*Cy:(j+1)*Cy]\n",
    "\n",
    "            if method == 'mean':\n",
    "                downsampled[i, j] = np.mean(block)\n",
    "            elif method == 'closest_to_mean':\n",
    "                mean_val = np.mean(block)\n",
    "                downsampled[i, j] = block.flat[np.abs(block - mean_val).argmin()]\n",
    "    \n",
    "    return downsampled\n",
    "\n",
    "image = np.array([\n",
    "    [1, 2, 3, 4],\n",
    "    [5, 6, 7, 8],\n",
    "    [9, 10, 11, 12],\n",
    "    [13, 14, 15, 16]\n",
    "])\n",
    "\n",
    "Cx, Cy = 2, 2\n",
    "\n",
    "print(\"Remove method:\")\n",
    "print(downsample_image(image, Cx, Cy, method='remove'))\n",
    "\n",
    "print(\"\\nMean method:\")\n",
    "print(downsample_image(image, Cx, Cy, method='mean'))\n",
    "\n",
    "print(\"\\nClosest to mean method:\")\n",
    "print(downsample_image(image, Cx, Cy, method='closest_to_mean'))\n"
   ]
  },
  {
   "cell_type": "markdown",
   "id": "f2e67dfd",
   "metadata": {},
   "source": [
    "# 7. Апсэмплинг"
   ]
  },
  {
   "cell_type": "code",
   "execution_count": 6,
   "id": "c9e09467",
   "metadata": {},
   "outputs": [
    {
     "name": "stdout",
     "output_type": "stream",
     "text": [
      "Original image:\n",
      "[[1 2]\n",
      " [3 4]]\n",
      "\n",
      "Upsampled image:\n",
      "[[1 1 1 2 2 2]\n",
      " [1 1 1 2 2 2]\n",
      " [3 3 3 4 4 4]\n",
      " [3 3 3 4 4 4]]\n"
     ]
    }
   ],
   "source": [
    "def upsample_image(image, Cx, Cy):\n",
    "    N, M = image.shape\n",
    "    new_N, new_M = N * Cx, M * Cy\n",
    "    \n",
    "    upsampled = np.zeros((new_N, new_M), dtype=image.dtype)\n",
    "\n",
    "    for i in range(N):\n",
    "        for j in range(M):\n",
    "            upsampled[i*Cx:(i+1)*Cx, j*Cy:(j+1)*Cy] = image[i, j]\n",
    "\n",
    "    return upsampled\n",
    "\n",
    "image = np.array([\n",
    "    [1, 2],\n",
    "    [3, 4]\n",
    "])\n",
    "\n",
    "Cx, Cy = 2, 3\n",
    "\n",
    "print(\"Original image:\")\n",
    "print(image)\n",
    "\n",
    "print(\"\\nUpsampled image:\")\n",
    "print(upsample_image(image, Cx, Cy))\n"
   ]
  },
  {
   "cell_type": "markdown",
   "id": "5240c2f9",
   "metadata": {},
   "source": [
    "# 8. Прямое и обратное дискретное косинусное преобразование"
   ]
  },
  {
   "cell_type": "code",
   "execution_count": 88,
   "id": "422bdd93",
   "metadata": {},
   "outputs": [
    {
     "name": "stdout",
     "output_type": "stream",
     "text": [
      "Original block:\n",
      "[[  52   55   61   66   70   61   64   73]\n",
      " [  63   59   55   90  109   85   69   72]\n",
      " [  62   59   68  113 -112  104   66   73]\n",
      " [  63   58   71  122 -102  106   70   69]\n",
      " [  67   61   68  104  126   88   68   70]\n",
      " [  79   65   60   70   77   68   58   75]\n",
      " [  85   71   64   59   55   61   65   83]\n",
      " [  87   79   69   68   65   76   78   94]]\n",
      "\n",
      "DCT coefficients:\n",
      "[[ 5.44625000e+02 -1.25281570e+01  2.24229678e+01 -2.30451548e+01\n",
      "  -7.87500000e+00  5.51608648e+01  3.22489033e+01 -8.83087347e+01]\n",
      " [-2.95054951e+01 -1.24848563e+01 -1.63727631e+01 -1.64372214e+01\n",
      "  -2.08259087e+01  3.28582742e+01  9.84954618e+00 -4.22422682e+01]\n",
      " [ 1.22938053e+01 -8.94286118e+00 -1.25446417e-01  2.18948172e+01\n",
      "   3.02166017e+01 -5.95939928e+01 -2.65831845e+01  7.63643435e+01]\n",
      " [ 2.09925471e+01 -7.11423694e+00 -5.67423073e+01  3.98680059e+01\n",
      "   5.92869069e+01 -7.54597396e+01 -3.57968542e+01  9.83833684e+01]\n",
      " [ 1.21250000e+01 -6.55344993e+00 -1.31961210e+01 -3.95142773e+00\n",
      "  -1.87500000e+00  1.74528445e+00 -2.78722825e+00  3.13528230e+00]\n",
      " [-5.41915431e+01  1.57228635e+01  6.30785293e+01 -4.24401870e+01\n",
      "  -4.88345961e+01  5.55688086e+01  2.94459520e+01 -6.25887408e+01]\n",
      " [-2.55224137e+01  6.94032322e+00  3.24168155e+01 -2.16585978e+01\n",
      "  -2.53695336e+01  2.57799326e+01  1.73754464e+01 -3.46329673e+01]\n",
      " [ 6.59188017e+00 -1.72271555e+00 -9.90031653e+00  1.11622972e+00\n",
      "   5.58694168e+00 -8.04345328e+00 -3.15573108e+00  1.10480418e+01]]\n",
      "\n",
      "Reconstructed block:\n",
      "[[  52   55   61   65   70   60   64   72]\n",
      " [  63   59   55   89  109   84   69   72]\n",
      " [  62   58   68  112 -111  103   65   72]\n",
      " [  62   57   70  121 -101  105   69   68]\n",
      " [  67   61   68  104  126   88   68   70]\n",
      " [  78   64   59   69   77   67   57   74]\n",
      " [  85   71   64   59   55   61   65   83]\n",
      " [  86   78   68   67   65   75   78   93]]\n"
     ]
    },
    {
     "name": "stderr",
     "output_type": "stream",
     "text": [
      "C:\\Users\\Александр\\AppData\\Local\\Temp\\ipykernel_70380\\2847024266.py:21: DeprecationWarning: NumPy will stop allowing conversion of out-of-bound Python integers to integer arrays.  The conversion of 144 to int8 will fail in the future.\n",
      "For the old behavior, usually:\n",
      "    np.array(value).astype(dtype)`\n",
      "will give the desired result (the cast overflows).\n",
      "  block = np.array([\n",
      "C:\\Users\\Александр\\AppData\\Local\\Temp\\ipykernel_70380\\2847024266.py:21: DeprecationWarning: NumPy will stop allowing conversion of out-of-bound Python integers to integer arrays.  The conversion of 154 to int8 will fail in the future.\n",
      "For the old behavior, usually:\n",
      "    np.array(value).astype(dtype)`\n",
      "will give the desired result (the cast overflows).\n",
      "  block = np.array([\n"
     ]
    }
   ],
   "source": [
    "def GetH():\n",
    "\n",
    "    h = np.zeros((8, 8))\n",
    "    for i in range(8):\n",
    "        for j in range(8):\n",
    "            if i == 0:\n",
    "                h[i][j] = np.sqrt(1 / 8)\n",
    "            else:\n",
    "                h[i][j] = np.sqrt(2 / 8)*np.cos(np.pi * (2 * j + 1) * i / (2 * 8))\n",
    "\n",
    "    return h\n",
    "\n",
    "def dct(a, h):\n",
    "\n",
    "    return np.matmul(np.matmul(h, a), np.transpose(h))\n",
    "\n",
    "def idct(c, h):\n",
    "\n",
    "    return np.int32(np.matmul(np.matmul(np.transpose(h), c), h))\n",
    "\n",
    "block = np.array([\n",
    "    [52, 55, 61, 66, 70, 61, 64, 73],\n",
    "    [63, 59, 55, 90, 109, 85, 69, 72],\n",
    "    [62, 59, 68, 113, 144, 104, 66, 73],\n",
    "    [63, 58, 71, 122, 154, 106, 70, 69],\n",
    "    [67, 61, 68, 104, 126, 88, 68, 70],\n",
    "    [79, 65, 60, 70, 77, 68, 58, 75],\n",
    "    [85, 71, 64, 59, 55, 61, 65, 83],\n",
    "    [87, 79, 69, 68, 65, 76, 78, 94]\n",
    "], dtype=np.int8)\n",
    "\n",
    "h = GetH()\n",
    "\n",
    "print(\"Original block:\")\n",
    "print(block)\n",
    "\n",
    "dct_coeffs = dct(block, h)\n",
    "print(\"\\nDCT coefficients:\")\n",
    "print(dct_coeffs)\n",
    "\n",
    "reconstructed_block = idct(dct_coeffs, h)\n",
    "print(\"\\nReconstructed block:\")\n",
    "print(reconstructed_block)"
   ]
  },
  {
   "cell_type": "markdown",
   "id": "720ddcad",
   "metadata": {},
   "source": [
    "# 9. Получение матрицы квантования для заданного Q"
   ]
  },
  {
   "cell_type": "code",
   "execution_count": 18,
   "id": "8f564201",
   "metadata": {},
   "outputs": [
    {
     "name": "stdout",
     "output_type": "stream",
     "text": [
      "Quantization matrix for quality 90:\n",
      "[[ 3  2  2  3  5  8 10 12]\n",
      " [ 2  2  3  4  5 12 12 11]\n",
      " [ 3  3  3  5  8 11 14 11]\n",
      " [ 3  3  4  6 10 17 16 12]\n",
      " [ 4  4  7 11 14 22 21 15]\n",
      " [ 5  7 11 13 16 21 23 18]\n",
      " [10 13 16 17 21 24 24 20]\n",
      " [14 18 19 20 22 20 21 20]]\n"
     ]
    }
   ],
   "source": [
    "import numpy as np\n",
    "\n",
    "def get_quantization_matrix(Q):\n",
    "    Q50 = np.array([\n",
    "        [16, 11, 10, 16, 24, 40, 51, 61],\n",
    "        [12, 12, 14, 19, 26, 58, 60, 55],\n",
    "        [14, 13, 16, 24, 40, 57, 69, 56],\n",
    "        [14, 17, 22, 29, 51, 87, 80, 62],\n",
    "        [18, 22, 37, 56, 68, 109, 103, 77],\n",
    "        [24, 35, 55, 64, 81, 104, 113, 92],\n",
    "        [49, 64, 78, 87, 103, 121, 120, 101],\n",
    "        [72, 92, 95, 98, 112, 100, 103, 99]\n",
    "    ])\n",
    "\n",
    "    if Q < 1:\n",
    "        Q = 1\n",
    "    elif Q > 100:\n",
    "        Q = 100\n",
    "\n",
    "    if Q < 50:\n",
    "        scale = 5000 / Q\n",
    "    else:\n",
    "        scale = 200 - 2 * Q\n",
    "\n",
    "    quant_matrix = np.floor((Q50 * scale + 50) / 100).astype(int)\n",
    "    quant_matrix[quant_matrix < 1] = 1\n",
    "    quant_matrix[quant_matrix > 255] = 255\n",
    "\n",
    "    return quant_matrix\n",
    "\n",
    "quality = 90\n",
    "quant_matrix = get_quantization_matrix(quality)\n",
    "print(\"Quantization matrix for quality {}:\".format(quality))\n",
    "print(quant_matrix)"
   ]
  },
  {
   "cell_type": "markdown",
   "id": "8810aa21",
   "metadata": {},
   "source": [
    "# 10. Квантование и деквантование"
   ]
  },
  {
   "cell_type": "code",
   "execution_count": 21,
   "id": "471183c4",
   "metadata": {},
   "outputs": [
    {
     "name": "stdout",
     "output_type": "stream",
     "text": [
      "Original DCT coefficients:\n",
      "[[1104   -6  -24   15  -14    0    0    0]\n",
      " [-108   -8    4    0    8    0    0    0]\n",
      " [   8   16   20    7    1    0    0    0]\n",
      " [  24   10    0    9    0    1    0    0]\n",
      " [  10   35    0    0    0    0    0    0]\n",
      " [   7  -11   17    0   24    0    0    1]\n",
      " [  15    0    0    0    0    0    0    0]\n",
      " [   0    0    0    1    0    1    0    0]]\n",
      "\n",
      "Quantized coefficients:\n",
      "[[69 -1 -2  1 -1  0  0  0]\n",
      " [-9 -1  0  0  0  0  0  0]\n",
      " [ 1  1  1  0  0  0  0  0]\n",
      " [ 2  1  0  0  0  0  0  0]\n",
      " [ 1  2  0  0  0  0  0  0]\n",
      " [ 0  0  0  0  0  0  0  0]\n",
      " [ 0  0  0  0  0  0  0  0]\n",
      " [ 0  0  0  0  0  0  0  0]]\n",
      "\n",
      "Dequantized coefficients:\n",
      "[[1104  -11  -20   16  -24    0    0    0]\n",
      " [-108  -12    0    0    0    0    0    0]\n",
      " [  14   13   16    0    0    0    0    0]\n",
      " [  28   17    0    0    0    0    0    0]\n",
      " [  18   44    0    0    0    0    0    0]\n",
      " [   0    0    0    0    0    0    0    0]\n",
      " [   0    0    0    0    0    0    0    0]\n",
      " [   0    0    0    0    0    0    0    0]]\n"
     ]
    }
   ],
   "source": [
    "def quantize(dct_coeffs, quant_matrix):\n",
    "    return np.round(dct_coeffs / quant_matrix).astype(int)\n",
    "\n",
    "def dequantize(quantized_coeffs, quant_matrix):\n",
    "    return (quantized_coeffs * quant_matrix).astype(int)\n",
    "\n",
    "dct_coeffs = np.array([\n",
    "    [1104, -6, -24, 15, -14, 0, 0, 0],\n",
    "    [-108, -8, 4, 0, 8, 0, 0, 0],\n",
    "    [8, 16, 20, 7, 1, 0, 0, 0],\n",
    "    [24, 10, 0, 9, 0, 1, 0, 0],\n",
    "    [10, 35, 0, 0, 0, 0, 0, 0],\n",
    "    [7, -11, 17, 0, 24, 0, 0, 1],\n",
    "    [15, 0, 0, 0, 0, 0, 0, 0],\n",
    "    [0, 0, 0, 1, 0, 1, 0, 0]\n",
    "], dtype=int)\n",
    "\n",
    "quant_matrix = get_quantization_matrix(50)\n",
    "\n",
    "print(\"Original DCT coefficients:\")\n",
    "print(dct_coeffs)\n",
    "\n",
    "quantized_coeffs = quantize(dct_coeffs, quant_matrix)\n",
    "print(\"\\nQuantized coefficients:\")\n",
    "print(quantized_coeffs)\n",
    "\n",
    "dequantized_coeffs = dequantize(quantized_coeffs, quant_matrix)\n",
    "print(\"\\nDequantized coefficients:\")\n",
    "print(dequantized_coeffs)"
   ]
  },
  {
   "cell_type": "markdown",
   "id": "f02c83f5",
   "metadata": {},
   "source": [
    "# 11. Прямое и обратное кодирование RLE"
   ]
  },
  {
   "cell_type": "code",
   "execution_count": 96,
   "id": "330f09ba",
   "metadata": {},
   "outputs": [
    {
     "name": "stdout",
     "output_type": "stream",
     "text": [
      "Quantized coefficients:\n",
      "[[69 -1 -2  1 -1  0  0  0]\n",
      " [-9 -1  0  0  0  0  0  0]\n",
      " [ 1  1  1  0  0  0  0  0]\n",
      " [ 2  1  0  0  0  0  0  0]\n",
      " [ 1  2  0  0  0  0  0  0]\n",
      " [ 0  0  0  0  0  0  0  0]\n",
      " [ 0  0  0  0  0  0  0  0]\n",
      " [ 0  0  0  0  0  0  0  0]]\n",
      "\n",
      "Zigzag sequence:\n",
      "[69 -1 -9  1 -1 -2  1  0  1  2  1  1  1  0 -1  0  0  0  0  2  0  0  0  0\n",
      "  0  0  0  0  0  0  0  0  0  0  0  0  0  0  0  0  0  0  0  0  0  0  0  0\n",
      "  0  0  0  0  0  0  0  0  0  0  0  0  0  0  0  0]\n",
      "\n",
      "RLE encoded sequence:\n",
      "[(69, 1), (-1, 1), (-9, 1), (1, 1), (-1, 1), (-2, 1), (1, 1), (0, 1), (1, 1), (2, 1), (1, 3), (0, 1), (-1, 1), (0, 4), (2, 1), (0, 44)]\n",
      "\n",
      "RLE decoded sequence:\n",
      "[69 -1 -9  1 -1 -2  1  0  1  2  1  1  1  0 -1  0  0  0  0  2  0  0  0  0\n",
      "  0  0  0  0  0  0  0  0  0  0  0  0  0  0  0  0  0  0  0  0  0  0  0  0\n",
      "  0  0  0  0  0  0  0  0  0  0  0  0  0  0  0  0]\n",
      "\n",
      "Reconstructed matrix:\n",
      "[[69 -1 -2  1 -1  0  0  0]\n",
      " [-9 -1  0  0  0  0  0  0]\n",
      " [ 1  1  1  0  0  0  0  0]\n",
      " [ 2  1  0  0  0  0  0  0]\n",
      " [ 1  2  0  0  0  0  0  0]\n",
      " [ 0  0  0  0  0  0  0  0]\n",
      " [ 0  0  0  0  0  0  0  0]\n",
      " [ 0  0  0  0  0  0  0  0]]\n"
     ]
    }
   ],
   "source": [
    "def rle_encode(sequence):\n",
    "    \n",
    "    encoded = []\n",
    "    last_val = sequence[0]\n",
    "    count = 1\n",
    "    for val in sequence[1:]:\n",
    "        if val == last_val:\n",
    "            count += 1\n",
    "        else:\n",
    "            encoded.append((last_val, count))\n",
    "            last_val = val\n",
    "            count = 1\n",
    "    encoded.append((last_val, count))\n",
    "    return encoded\n",
    "\n",
    "def rle_decode(encoded_sequence):\n",
    "    \n",
    "    decoded = []\n",
    "    for value, count in encoded_sequence:\n",
    "        decoded.extend([value] * count)\n",
    "    return np.array(decoded, dtype=int)\n",
    "\n",
    "dct_coeffs = np.array([\n",
    "    [1104, -6, -24, 15, -14, 0, 0, 0],\n",
    "    [-108, -8, 4, 0, 8, 0, 0, 0],\n",
    "    [8, 16, 20, 7, 1, 0, 0, 0],\n",
    "    [24, 10, 0, 9, 0, 1, 0, 0],\n",
    "    [10, 35, 0, 0, 0, 0, 0, 0],\n",
    "    [7, -11, 17, 0, 24, 0, 0, 1],\n",
    "    [15, 0, 0, 0, 0, 0, 0, 0],\n",
    "    [0, 0, 0, 1, 0, 1, 0, 0]\n",
    "], dtype=int)\n",
    "\n",
    "quant_matrix = get_quantization_matrix(50)\n",
    "quantized_coeffs = quantize(dct_coeffs, quant_matrix)\n",
    "\n",
    "print(\"Quantized coefficients:\")\n",
    "print(quantized_coeffs)\n",
    "\n",
    "zigzag_sequence = zigzag_order(quantized_coeffs)\n",
    "print(\"\\nZigzag sequence:\")\n",
    "print(zigzag_sequence)\n",
    "\n",
    "rle_encoded = rle_encode(zigzag_sequence)\n",
    "print(\"\\nRLE encoded sequence:\")\n",
    "print(rle_encoded)\n",
    "\n",
    "rle_decoded = rle_decode(rle_encoded)\n",
    "print(\"\\nRLE decoded sequence:\")\n",
    "print(rle_decoded)\n",
    "\n",
    "reconstructed_matrix = np.zeros((8, 8), dtype=int)\n",
    "index = 0\n",
    "bound = 8 + 8 - 1\n",
    "for i in range(bound):\n",
    "    if i % 2 == 0:\n",
    "        r = i if i < 8 else 7\n",
    "        c = 0 if i < 8 else i - 7\n",
    "        while r >= 0 and c < 8:\n",
    "            reconstructed_matrix[r, c] = rle_decoded[index]\n",
    "            index += 1\n",
    "            r -= 1\n",
    "            c += 1\n",
    "    else:\n",
    "        r = 0 if i < 8 else i - 7\n",
    "        c = i if i < 8 else 7\n",
    "        while r < 8 and c >= 0:\n",
    "            reconstructed_matrix[r, c] = rle_decoded[index]\n",
    "            index += 1\n",
    "            r += 1\n",
    "            c -= 1\n",
    "\n",
    "print(\"\\nReconstructed matrix:\")\n",
    "print(reconstructed_matrix)"
   ]
  },
  {
   "cell_type": "markdown",
   "id": "29776a9f",
   "metadata": {},
   "source": [
    "# 12. Функция ДКП->квантование->деквантование->обратное ДКП "
   ]
  },
  {
   "cell_type": "code",
   "execution_count": 89,
   "id": "8f60cb06",
   "metadata": {},
   "outputs": [],
   "source": [
    "def process_image(img, Q):\n",
    "    height, width = img.shape\n",
    "    processed_img = np.zeros_like(img, dtype=np.float32)\n",
    "\n",
    "    quant_matrix = get_quantization_matrix(Q)\n",
    "    h = GetH()\n",
    "\n",
    "    for i in range(0, height, 8):\n",
    "        for j in range(0, width, 8):\n",
    "            block = img[i:i+8, j:j+8]\n",
    "            dct_block = dct(block, h)\n",
    "            quantized_block = quantize(dct_block, quant_matrix)\n",
    "            dequantized_block = dequantize(quantized_block, quant_matrix)\n",
    "            idct_block = idct(dequantized_block, h)\n",
    "            processed_img[i:i+8, j:j+8] = idct_block\n",
    "\n",
    "    processed_img = np.clip(processed_img, 0, 255).astype(np.uint8)\n",
    "\n",
    "    return processed_img"
   ]
  },
  {
   "cell_type": "markdown",
   "id": "503da493",
   "metadata": {},
   "source": [
    "# 13. Функция разбиения изображения на каналы"
   ]
  },
  {
   "cell_type": "code",
   "execution_count": 63,
   "id": "71b89dd2",
   "metadata": {},
   "outputs": [],
   "source": [
    "def imgtorawchanels(img):\n",
    "    imgarr = np.array(img)\n",
    "    R = []; G = []; B = []\n",
    "    for line in imgarr:\n",
    "        for pixel in line:\n",
    "            R.append(pixel[0])\n",
    "            G.append(pixel[1])\n",
    "            B.append(pixel[2])\n",
    "    return np.reshape(R, (len(imgarr), len(imgarr[0]))), np.reshape(G, (len(imgarr), len(imgarr[0]))), np.reshape(B, (len(imgarr), len(imgarr[0])))"
   ]
  },
  {
   "cell_type": "code",
   "execution_count": 91,
   "id": "1fec04d5",
   "metadata": {},
   "outputs": [],
   "source": [
    "img = Image.open(\"cat.jpeg\")\n",
    "img = img.resize((400,400))\n",
    "img_array = np.array(img)\n",
    "R,G,B = imgtorawchanels(img)\n",
    "for Q in [90, 70, 50, 30, 10, 1]:\n",
    "    processed_R = process_image(R, Q)\n",
    "    processed_G = process_image(G, Q)\n",
    "    processed_B = process_image(B, Q)\n",
    "    \n",
    "    res_rgb = []\n",
    "    rpR = np.reshape(processed_R, len(img_array) * len(img_array[0]))\n",
    "    rpG = np.reshape(processed_G, len(img_array) * len(img_array[0]))\n",
    "    rpB = np.reshape(processed_B, len(img_array) * len(img_array[0]))\n",
    "    for j in range(len(rpR)):\n",
    "        res_rgb.append([rpR[j],rpG[j],rpB[j]])\n",
    "    res_rgb = np.array(res_rgb)\n",
    "    res_rgb = np.reshape(res_rgb,(len(img_array),len(img_array[0]), 3))\n",
    "    immg = Image.fromarray(res_rgb.astype(np.uint8))\n",
    "                     \n",
    "    immg.show()\n",
    "    immg.save(f\"./quality/cat_quality{Q}.jpeg\")\n",
    "    immg.close()"
   ]
  },
  {
   "cell_type": "markdown",
   "id": "40db125a",
   "metadata": {},
   "source": [
    "# 14. Запись RLE в файл"
   ]
  },
  {
   "cell_type": "code",
   "execution_count": 135,
   "id": "5c78c91f",
   "metadata": {},
   "outputs": [],
   "source": [
    "def rle_to_file(encoded_data, filename):\n",
    "    with open(filename, 'wb') as file:\n",
    "        for item in encoded_data:\n",
    "            file.write(int(item[0]).to_bytes(2, byteorder='big', signed=True))\n",
    "            file.write(int(item[1]).to_bytes(2, byteorder='big', signed=False))\n",
    "    return"
   ]
  },
  {
   "cell_type": "markdown",
   "id": "49716bde",
   "metadata": {},
   "source": [
    "# 15. Чтение RLE из файла"
   ]
  },
  {
   "cell_type": "code",
   "execution_count": 136,
   "id": "7049cab5",
   "metadata": {},
   "outputs": [],
   "source": [
    "def rle_from_file(filename):\n",
    "    encoded_data = []\n",
    "    with open(filename, 'rb') as file:\n",
    "        while True:\n",
    "            num = file.read(2)\n",
    "            if not num:\n",
    "                break\n",
    "            count = file.read(2)\n",
    "            encoded_data.append((int.from_bytes(num, \"big\", signed=True), int.from_bytes(count, \"big\", signed=False)))\n",
    "    return encoded_data"
   ]
  },
  {
   "cell_type": "code",
   "execution_count": 110,
   "id": "8b2464b9",
   "metadata": {},
   "outputs": [],
   "source": [
    "rle_to_file(rle_encoded, \"test_rle\")"
   ]
  },
  {
   "cell_type": "code",
   "execution_count": 114,
   "id": "0165af11",
   "metadata": {},
   "outputs": [],
   "source": [
    "rle_decoded = rle_decode(rle_from_file(\"test_rle\"))"
   ]
  },
  {
   "cell_type": "code",
   "execution_count": 115,
   "id": "b0a327e5",
   "metadata": {},
   "outputs": [
    {
     "name": "stdout",
     "output_type": "stream",
     "text": [
      "\n",
      "Reconstructed matrix:\n",
      "[[69 -1 -2  1 -1  0  0  0]\n",
      " [-9 -1  0  0  0  0  0  0]\n",
      " [ 1  1  1  0  0  0  0  0]\n",
      " [ 2  1  0  0  0  0  0  0]\n",
      " [ 1  2  0  0  0  0  0  0]\n",
      " [ 0  0  0  0  0  0  0  0]\n",
      " [ 0  0  0  0  0  0  0  0]\n",
      " [ 0  0  0  0  0  0  0  0]]\n"
     ]
    }
   ],
   "source": [
    "reconstructed_matrix = np.zeros((8, 8), dtype=int)\n",
    "index = 0\n",
    "bound = 8 + 8 - 1\n",
    "for i in range(bound):\n",
    "    if i % 2 == 0:\n",
    "        r = i if i < 8 else 7\n",
    "        c = 0 if i < 8 else i - 7\n",
    "        while r >= 0 and c < 8:\n",
    "            reconstructed_matrix[r, c] = rle_decoded[index]\n",
    "            index += 1\n",
    "            r -= 1\n",
    "            c += 1\n",
    "    else:\n",
    "        r = 0 if i < 8 else i - 7\n",
    "        c = i if i < 8 else 7\n",
    "        while r < 8 and c >= 0:\n",
    "            reconstructed_matrix[r, c] = rle_decoded[index]\n",
    "            index += 1\n",
    "            r += 1\n",
    "            c -= 1\n",
    "\n",
    "print(\"\\nReconstructed matrix:\")\n",
    "print(reconstructed_matrix)"
   ]
  },
  {
   "cell_type": "markdown",
   "id": "7cfd4154",
   "metadata": {},
   "source": [
    "# 16. Компрессор"
   ]
  },
  {
   "cell_type": "code",
   "execution_count": 137,
   "id": "d073ae3c",
   "metadata": {},
   "outputs": [],
   "source": [
    "def process_compression(matrix, Q):\n",
    "    height, width = matrix.shape\n",
    "    processed_matrix = np.zeros_like(matrix, dtype=np.float32)\n",
    "\n",
    "    quant_matrix = get_quantization_matrix(Q)\n",
    "    h = GetH()\n",
    "\n",
    "    for i in range(0, height, 8):\n",
    "        for j in range(0, width, 8):\n",
    "            block = matrix[i:i+8, j:j+8]\n",
    "            dct_block = dct(block, h)\n",
    "            quantized_block = quantize(dct_block, quant_matrix)\n",
    "            processed_matrix[i:i+8, j:j+8] = quantized_block\n",
    "\n",
    "    return processed_matrix\n",
    "\n",
    "def compressor(filename, Cx, Cy, method='remove', Q=50):\n",
    "    image = Image.open(filename)\n",
    "    array = imgtoraw(image)\n",
    "    y,Cb,Cr = rgbtoycbcr(array)\n",
    "    res_ycbcr = []\n",
    "    for i in range(len(y)):\n",
    "        res_ycbcr.append([y[i],Cb[i],Cr[i]])\n",
    "    res_ycbcr = np.array(res_ycbcr)\n",
    "    res_ycbcr = np.reshape(res_ycbcr,(len(array),len(array[0]),3))\n",
    "    image_ycbcr = Image.fromarray(res_ycbcr.astype(np.uint8), mode='YCbCr')\n",
    "    image_ycbcr.save(f\"./{filename}_output/{filename}_ycbcr.jpeg\")\n",
    "    \n",
    "    downsampled_y = downsample_image(np.reshape(y, (len(array),len(array[0]))), Cx, Cy, method)\n",
    "    downsampled_Cb = downsample_image(np.reshape(Cb, (len(array),len(array[0]))), Cx, Cy, method)\n",
    "    downsampled_Cr = downsample_image(np.reshape(Cr, (len(array),len(array[0]))), Cx, Cy, method)\n",
    "    res_downsampled = []\n",
    "    for i in range(len(array)//Cy*len(array[0])//Cx):\n",
    "        res_downsampled.append([np.reshape(downsampled_y, (len(array)//Cy*len(array[0])//Cx))[i],np.reshape(downsampled_Cb, (len(array)//Cy*len(array[0])//Cx))[i],np.reshape(downsampled_Cr, (len(array)//Cy*len(array[0])//Cx))[i]])\n",
    "    res_downsampled = np.array(res_downsampled)\n",
    "    res_downsampled = np.reshape(res_downsampled,(len(array)//Cy,len(array[0])//Cx,3))\n",
    "    image_downsampled = Image.fromarray(res_downsampled.astype(np.uint8), mode='YCbCr')\n",
    "    image_downsampled.save(f\"./{filename}_output/{filename}_downsampled.jpeg\")\n",
    "    \n",
    "    quantized_y = process_compression(np.reshape(downsampled_y, (len(array)//Cy,len(array[0])//Cx)), Q)\n",
    "    quantized_Cb = process_compression(np.reshape(downsampled_Cb, (len(array)//Cy,len(array[0])//Cx)), Q)\n",
    "    quantized_Cr = process_compression(np.reshape(downsampled_Cr, (len(array)//Cy,len(array[0])//Cx)), Q)\n",
    "                                      \n",
    "    zigzag_y = zigzag_order(quantized_y)\n",
    "    zigzag_Cb = zigzag_order(quantized_Cb)\n",
    "    zigzag_Cr = zigzag_order(quantized_Cr)\n",
    "                                      \n",
    "    rle_y = rle_encode(zigzag_y)\n",
    "    rle_Cb = rle_encode(zigzag_Cb)\n",
    "    rle_Cr = rle_encode(zigzag_Cr)\n",
    "                                      \n",
    "    rle_to_file(rle_y, f\"./{filename}_output/{filename}_y_rle\")\n",
    "    rle_to_file(rle_Cb, f\"./{filename}_output/{filename}_Cb_rle\")\n",
    "    rle_to_file(rle_Cr, f\"./{filename}_output/{filename}_Cr_rle\")"
   ]
  },
  {
   "cell_type": "code",
   "execution_count": 138,
   "id": "18ee040c",
   "metadata": {},
   "outputs": [],
   "source": [
    "compressor(\"cat_resized.jpeg\", 2, 2)"
   ]
  },
  {
   "cell_type": "markdown",
   "id": "73639822",
   "metadata": {},
   "source": [
    "# 17. Декомпрессор"
   ]
  },
  {
   "cell_type": "code",
   "execution_count": 153,
   "id": "5c4b4f7e",
   "metadata": {},
   "outputs": [],
   "source": [
    "def process_decompression(matrix, Q):\n",
    "    height, width = matrix.shape\n",
    "    processed_matrix = np.zeros_like(matrix, dtype=np.float32)\n",
    "\n",
    "    quant_matrix = get_quantization_matrix(Q)\n",
    "    h = GetH()\n",
    "\n",
    "    for i in range(0, height, 8):\n",
    "        for j in range(0, width, 8):\n",
    "            block = matrix[i:i+8, j:j+8]\n",
    "            dequantized_block = dequantize(block, quant_matrix)\n",
    "            idct_block = idct(dequantized_block, h)\n",
    "            processed_matrix[i:i+8, j:j+8] = idct_block\n",
    "\n",
    "    return processed_matrix\n",
    "\n",
    "def decompressor(filename, filename_y, filename_Cb, filename_Cr, height, weight, Q, Cx, Cy):\n",
    "    rle_y = rle_from_file(filename_y)\n",
    "    rle_Cb = rle_from_file(filename_Cb)\n",
    "    rle_Cr = rle_from_file(filename_Cr)\n",
    "    \n",
    "    rle_y_decoded = rle_decode(rle_y)\n",
    "    rle_Cb_decoded = rle_decode(rle_Cb)\n",
    "    rle_Cr_decoded = rle_decode(rle_Cr)\n",
    "    \n",
    "    y = inverse_zigzag_order(rle_y_decoded, height, weight)\n",
    "    Cb = inverse_zigzag_order(rle_Cb_decoded, height, weight)\n",
    "    Cr = inverse_zigzag_order(rle_Cr_decoded, height, weight)\n",
    "    \n",
    "    y_idct = process_decompression(np.reshape(y, (height, weight)), Q)\n",
    "    Cb_idct = process_decompression(np.reshape(Cb, (height, weight)), Q)\n",
    "    Cr_idct = process_decompression(np.reshape(Cr, (height, weight)), Q)\n",
    "    \n",
    "    y_upsampled = upsample_image(y_idct, Cx, Cy)\n",
    "    Cb_upsampled = upsample_image(Cb_idct, Cx, Cy)\n",
    "    Cr_upsampled = upsample_image(Cr_idct, Cx, Cy)\n",
    "    res_upsampled = []\n",
    "    for i in range(height*Cy*weight*Cx):\n",
    "        res_upsampled.append([np.reshape(y_upsampled, height*Cy*weight*Cx)[i],np.reshape(Cb_upsampled, height*Cy*weight*Cx)[i],np.reshape(Cr_upsampled, height*Cy*weight*Cx)[i]])\n",
    "    res_upsampled = np.array(res_upsampled)\n",
    "    height*=Cy\n",
    "    weight*=Cx\n",
    "    res_upsampled = np.reshape(res_upsampled,(height,weight,3))\n",
    "    image_upsampled = Image.fromarray(res_upsampled.astype(np.uint8), mode='YCbCr')\n",
    "    image_upsampled.save(f\"./{filename}_output/{filename}_upsampled.jpeg\")\n",
    "    \n",
    "    R,G,B = ycbcrtorgb(res_upsampled)\n",
    "    res_rgb = []\n",
    "    for j in range(len(R)):\n",
    "        res_rgb.append([R[j],G[j],B[j]])\n",
    "    res_rgb = np.array(res_rgb)\n",
    "    res_rgb = np.reshape(res_rgb,(height,weight,3))\n",
    "    image_rgb = Image.fromarray(res_rgb.astype(np.uint8), mode='RGB')\n",
    "    image_rgb.save(f\"./{filename}_output/{filename}_rgb.jpeg\")"
   ]
  },
  {
   "cell_type": "code",
   "execution_count": 154,
   "id": "b9ee0cc2",
   "metadata": {},
   "outputs": [],
   "source": [
    "decompressor(\"cat_resized.jpeg\", \"./cat_resized.jpeg_output/cat_resized.jpeg_y_rle\", \"./cat_resized.jpeg_output/cat_resized.jpeg_Cb_rle\", \"./cat_resized.jpeg_output/cat_resized.jpeg_Cr_rle\", 200, 200, 50, 2, 2)"
   ]
  },
  {
   "cell_type": "code",
   "execution_count": null,
   "id": "c03237b6",
   "metadata": {},
   "outputs": [],
   "source": []
  }
 ],
 "metadata": {
  "kernelspec": {
   "display_name": "Python 3 (ipykernel)",
   "language": "python",
   "name": "python3"
  },
  "language_info": {
   "codemirror_mode": {
    "name": "ipython",
    "version": 3
   },
   "file_extension": ".py",
   "mimetype": "text/x-python",
   "name": "python",
   "nbconvert_exporter": "python",
   "pygments_lexer": "ipython3",
   "version": "3.11.3"
  }
 },
 "nbformat": 4,
 "nbformat_minor": 5
}
